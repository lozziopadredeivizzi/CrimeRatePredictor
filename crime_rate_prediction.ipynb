{
 "cells": [
  {
   "cell_type": "markdown",
   "metadata": {
    "id": "fNb4i8jok555"
   },
   "source": [
    "# Prevedere il crime rate"
   ]
  },
  {
   "cell_type": "markdown",
   "metadata": {
    "id": "rysI7JqSlnlx"
   },
   "source": [
    "## Caricamento Librerie\n",
    "Per prima cosa carichiamo le librerie per effettuare operazioni sui dati\n",
    "\n",
    "*   NumPy per creare e operare su array a N dimensioni\n",
    "*   pandas per caricare e manipolare dati tabulari\n",
    "*   matplotlib per creare grafici\n",
    "\n",
    "Importiamo le librerie usando i loro alias convenzionali"
   ]
  },
  {
   "cell_type": "code",
   "execution_count": 133,
   "metadata": {
    "id": "6OuaXWY9k8qK"
   },
   "outputs": [],
   "source": [
    "import numpy as np\n",
    "import pandas as pd\n",
    "import matplotlib.pyplot as plt\n",
    "import sklearn\n",
    "%matplotlib inline"
   ]
  },
  {
   "cell_type": "markdown",
   "metadata": {
    "id": "n_H4KS_El8i8"
   },
   "source": [
    "## Caricamento dei dati\n",
    "I dataset presi sono satti scricati dal sito ufficile delle nazioni unite (da completare)"
   ]
  },
  {
   "cell_type": "markdown",
   "metadata": {
    "id": "_2XwUnhe9lvD"
   },
   "source": [
    "## Crimini per furto"
   ]
  },
  {
   "cell_type": "code",
   "execution_count": 20,
   "metadata": {
    "id": "Y5PQDf8qmIL7"
   },
   "outputs": [],
   "source": [
    "import os.path\n",
    "file = \"data_cts_corruption_and_economic_crime.csv\";\n",
    "if not os.path.exists(file):\n",
    "    print(\"Missing dataset\");\n",
    "else:\n",
    "  theftCrime = pd.read_csv(file, index_col=False, encoding='latin1');"
   ]
  },
  {
   "cell_type": "code",
   "execution_count": 21,
   "metadata": {
    "colab": {
     "base_uri": "https://localhost:8080/"
    },
    "id": "AZPwtokEqEtn",
    "outputId": "8c164a08-b261-48cb-bd74-33ae12ffaeb5"
   },
   "outputs": [
    {
     "name": "stdout",
     "output_type": "stream",
     "text": [
      "<class 'pandas.core.frame.DataFrame'>\n",
      "RangeIndex: 22754 entries, 0 to 22753\n",
      "Data columns (total 13 columns):\n",
      " #   Column               Non-Null Count  Dtype  \n",
      "---  ------               --------------  -----  \n",
      " 0   Iso3_code            22754 non-null  object \n",
      " 1   Country              22754 non-null  object \n",
      " 2   Region               22754 non-null  object \n",
      " 3   Subregion            22754 non-null  object \n",
      " 4   Indicator            22754 non-null  object \n",
      " 5   Dimension            22754 non-null  object \n",
      " 6   Category             22754 non-null  object \n",
      " 7   Sex                  22754 non-null  object \n",
      " 8   Age                  22754 non-null  object \n",
      " 9   Year                 22754 non-null  int64  \n",
      " 10  Unit of measurement  22754 non-null  object \n",
      " 11  VALUE                22754 non-null  float64\n",
      " 12  Source               22754 non-null  object \n",
      "dtypes: float64(1), int64(1), object(11)\n",
      "memory usage: 16.5 MB\n"
     ]
    }
   ],
   "source": [
    "theftCrime.info(memory_usage='deep')"
   ]
  },
  {
   "cell_type": "code",
   "execution_count": 22,
   "metadata": {
    "colab": {
     "base_uri": "https://localhost:8080/",
     "height": 310
    },
    "id": "xVa9t7oeqbH6",
    "outputId": "67531213-a51a-41ea-86cd-250c8edc030c"
   },
   "outputs": [
    {
     "data": {
      "text/html": [
       "<div>\n",
       "<style scoped>\n",
       "    .dataframe tbody tr th:only-of-type {\n",
       "        vertical-align: middle;\n",
       "    }\n",
       "\n",
       "    .dataframe tbody tr th {\n",
       "        vertical-align: top;\n",
       "    }\n",
       "\n",
       "    .dataframe thead th {\n",
       "        text-align: right;\n",
       "    }\n",
       "</style>\n",
       "<table border=\"1\" class=\"dataframe\">\n",
       "  <thead>\n",
       "    <tr style=\"text-align: right;\">\n",
       "      <th></th>\n",
       "      <th>Iso3_code</th>\n",
       "      <th>Country</th>\n",
       "      <th>Region</th>\n",
       "      <th>Subregion</th>\n",
       "      <th>Indicator</th>\n",
       "      <th>Dimension</th>\n",
       "      <th>Category</th>\n",
       "      <th>Sex</th>\n",
       "      <th>Age</th>\n",
       "      <th>Year</th>\n",
       "      <th>Unit of measurement</th>\n",
       "      <th>VALUE</th>\n",
       "      <th>Source</th>\n",
       "    </tr>\n",
       "  </thead>\n",
       "  <tbody>\n",
       "    <tr>\n",
       "      <th>0</th>\n",
       "      <td>ARM</td>\n",
       "      <td>Armenia</td>\n",
       "      <td>Asia</td>\n",
       "      <td>Western Asia</td>\n",
       "      <td>Offences</td>\n",
       "      <td>by type of offence</td>\n",
       "      <td>Corruption</td>\n",
       "      <td>Total</td>\n",
       "      <td>Total</td>\n",
       "      <td>2013</td>\n",
       "      <td>Counts</td>\n",
       "      <td>782.0</td>\n",
       "      <td>CTS</td>\n",
       "    </tr>\n",
       "    <tr>\n",
       "      <th>1</th>\n",
       "      <td>AUT</td>\n",
       "      <td>Austria</td>\n",
       "      <td>Europe</td>\n",
       "      <td>Western Europe</td>\n",
       "      <td>Offences</td>\n",
       "      <td>by type of offence</td>\n",
       "      <td>Corruption</td>\n",
       "      <td>Total</td>\n",
       "      <td>Total</td>\n",
       "      <td>2013</td>\n",
       "      <td>Counts</td>\n",
       "      <td>3439.0</td>\n",
       "      <td>CTS</td>\n",
       "    </tr>\n",
       "    <tr>\n",
       "      <th>2</th>\n",
       "      <td>CHE</td>\n",
       "      <td>Switzerland</td>\n",
       "      <td>Europe</td>\n",
       "      <td>Western Europe</td>\n",
       "      <td>Offences</td>\n",
       "      <td>by type of offence</td>\n",
       "      <td>Corruption</td>\n",
       "      <td>Total</td>\n",
       "      <td>Total</td>\n",
       "      <td>2013</td>\n",
       "      <td>Counts</td>\n",
       "      <td>4884.0</td>\n",
       "      <td>CTS</td>\n",
       "    </tr>\n",
       "    <tr>\n",
       "      <th>3</th>\n",
       "      <td>CHL</td>\n",
       "      <td>Chile</td>\n",
       "      <td>Americas</td>\n",
       "      <td>Latin America and the Caribbean</td>\n",
       "      <td>Offences</td>\n",
       "      <td>by type of offence</td>\n",
       "      <td>Corruption</td>\n",
       "      <td>Total</td>\n",
       "      <td>Total</td>\n",
       "      <td>2013</td>\n",
       "      <td>Counts</td>\n",
       "      <td>339.0</td>\n",
       "      <td>CTS</td>\n",
       "    </tr>\n",
       "    <tr>\n",
       "      <th>4</th>\n",
       "      <td>COL</td>\n",
       "      <td>Colombia</td>\n",
       "      <td>Americas</td>\n",
       "      <td>Latin America and the Caribbean</td>\n",
       "      <td>Offences</td>\n",
       "      <td>by type of offence</td>\n",
       "      <td>Corruption</td>\n",
       "      <td>Total</td>\n",
       "      <td>Total</td>\n",
       "      <td>2013</td>\n",
       "      <td>Counts</td>\n",
       "      <td>23483.0</td>\n",
       "      <td>CTS</td>\n",
       "    </tr>\n",
       "  </tbody>\n",
       "</table>\n",
       "</div>"
      ],
      "text/plain": [
       "  Iso3_code      Country    Region                        Subregion Indicator  \\\n",
       "0       ARM      Armenia      Asia                     Western Asia  Offences   \n",
       "1       AUT      Austria    Europe                   Western Europe  Offences   \n",
       "2       CHE  Switzerland    Europe                   Western Europe  Offences   \n",
       "3       CHL        Chile  Americas  Latin America and the Caribbean  Offences   \n",
       "4       COL     Colombia  Americas  Latin America and the Caribbean  Offences   \n",
       "\n",
       "            Dimension    Category    Sex    Age  Year Unit of measurement  \\\n",
       "0  by type of offence  Corruption  Total  Total  2013              Counts   \n",
       "1  by type of offence  Corruption  Total  Total  2013              Counts   \n",
       "2  by type of offence  Corruption  Total  Total  2013              Counts   \n",
       "3  by type of offence  Corruption  Total  Total  2013              Counts   \n",
       "4  by type of offence  Corruption  Total  Total  2013              Counts   \n",
       "\n",
       "     VALUE Source  \n",
       "0    782.0    CTS  \n",
       "1   3439.0    CTS  \n",
       "2   4884.0    CTS  \n",
       "3    339.0    CTS  \n",
       "4  23483.0    CTS  "
      ]
     },
     "execution_count": 22,
     "metadata": {},
     "output_type": "execute_result"
    }
   ],
   "source": [
    "theftCrime.head()"
   ]
  },
  {
   "cell_type": "code",
   "execution_count": 23,
   "metadata": {
    "colab": {
     "base_uri": "https://localhost:8080/"
    },
    "id": "mPdJ3ker-uWN",
    "outputId": "c3fdf9a5-5ca1-4ec2-88b1-b195d4b68b30"
   },
   "outputs": [
    {
     "data": {
      "text/plain": [
       "(22754, 13)"
      ]
     },
     "execution_count": 23,
     "metadata": {},
     "output_type": "execute_result"
    }
   ],
   "source": [
    "theftCrime.shape"
   ]
  },
  {
   "cell_type": "code",
   "execution_count": 24,
   "metadata": {
    "colab": {
     "base_uri": "https://localhost:8080/",
     "height": 300
    },
    "id": "gFBYk4TPqfjQ",
    "outputId": "6b3fe409-ec1c-431c-ca1b-4f99488ac16f"
   },
   "outputs": [
    {
     "data": {
      "text/html": [
       "<div>\n",
       "<style scoped>\n",
       "    .dataframe tbody tr th:only-of-type {\n",
       "        vertical-align: middle;\n",
       "    }\n",
       "\n",
       "    .dataframe tbody tr th {\n",
       "        vertical-align: top;\n",
       "    }\n",
       "\n",
       "    .dataframe thead th {\n",
       "        text-align: right;\n",
       "    }\n",
       "</style>\n",
       "<table border=\"1\" class=\"dataframe\">\n",
       "  <thead>\n",
       "    <tr style=\"text-align: right;\">\n",
       "      <th></th>\n",
       "      <th>Year</th>\n",
       "      <th>VALUE</th>\n",
       "    </tr>\n",
       "  </thead>\n",
       "  <tbody>\n",
       "    <tr>\n",
       "      <th>count</th>\n",
       "      <td>22754.000000</td>\n",
       "      <td>2.275400e+04</td>\n",
       "    </tr>\n",
       "    <tr>\n",
       "      <th>mean</th>\n",
       "      <td>2015.348159</td>\n",
       "      <td>2.675275e+04</td>\n",
       "    </tr>\n",
       "    <tr>\n",
       "      <th>std</th>\n",
       "      <td>5.059154</td>\n",
       "      <td>2.134465e+05</td>\n",
       "    </tr>\n",
       "    <tr>\n",
       "      <th>min</th>\n",
       "      <td>2003.000000</td>\n",
       "      <td>0.000000e+00</td>\n",
       "    </tr>\n",
       "    <tr>\n",
       "      <th>25%</th>\n",
       "      <td>2013.000000</td>\n",
       "      <td>6.000000e+00</td>\n",
       "    </tr>\n",
       "    <tr>\n",
       "      <th>50%</th>\n",
       "      <td>2017.000000</td>\n",
       "      <td>1.272963e+02</td>\n",
       "    </tr>\n",
       "    <tr>\n",
       "      <th>75%</th>\n",
       "      <td>2019.000000</td>\n",
       "      <td>1.484817e+03</td>\n",
       "    </tr>\n",
       "    <tr>\n",
       "      <th>max</th>\n",
       "      <td>2022.000000</td>\n",
       "      <td>7.026802e+06</td>\n",
       "    </tr>\n",
       "  </tbody>\n",
       "</table>\n",
       "</div>"
      ],
      "text/plain": [
       "               Year         VALUE\n",
       "count  22754.000000  2.275400e+04\n",
       "mean    2015.348159  2.675275e+04\n",
       "std        5.059154  2.134465e+05\n",
       "min     2003.000000  0.000000e+00\n",
       "25%     2013.000000  6.000000e+00\n",
       "50%     2017.000000  1.272963e+02\n",
       "75%     2019.000000  1.484817e+03\n",
       "max     2022.000000  7.026802e+06"
      ]
     },
     "execution_count": 24,
     "metadata": {},
     "output_type": "execute_result"
    }
   ],
   "source": [
    "theftCrime.describe()"
   ]
  },
  {
   "cell_type": "markdown",
   "metadata": {
    "id": "vpTvWN6ksJZL"
   },
   "source": [
    "## Preprocessing dei dati\n",
    "Filtrimo il dataframe utilizzando come unità solo 'Counts' inevce che 'Rate per 100,000 population'. Effettuiamo quindi una prima scrematura dei dati"
   ]
  },
  {
   "cell_type": "code",
   "execution_count": 25,
   "metadata": {
    "id": "mCKiDKTrtdIC"
   },
   "outputs": [],
   "source": [
    "theftCrime = theftCrime[theftCrime['Unit of measurement'] != \"Rate per 100,000 population\"]"
   ]
  },
  {
   "cell_type": "code",
   "execution_count": 26,
   "metadata": {
    "colab": {
     "base_uri": "https://localhost:8080/"
    },
    "id": "868wZ_RW8mln",
    "outputId": "66917432-2b0b-43cd-84d6-94e284a12464"
   },
   "outputs": [
    {
     "data": {
      "text/plain": [
       "(11377, 13)"
      ]
     },
     "execution_count": 26,
     "metadata": {},
     "output_type": "execute_result"
    }
   ],
   "source": [
    "theftCrime.shape"
   ]
  },
  {
   "cell_type": "markdown",
   "metadata": {
    "id": "yFddJpCm-z2K"
   },
   "source": [
    "Analizzando il dataframe, le feature 'Age', 'Sex', 'Iso3_code', 'Dimension', 'Unit of measurement'e 'Source' non sono rilevanti per il nostro modello, perciò effetuiamo la loro rimozione."
   ]
  },
  {
   "cell_type": "code",
   "execution_count": 27,
   "metadata": {
    "id": "udFZ_ieC86YO"
   },
   "outputs": [],
   "source": [
    "theftCrime = theftCrime.drop(['Unit of measurement', 'Sex', 'Iso3_code', 'Age', 'Source', 'Dimension', 'Indicator'], axis=1)"
   ]
  },
  {
   "cell_type": "code",
   "execution_count": 28,
   "metadata": {
    "colab": {
     "base_uri": "https://localhost:8080/",
     "height": 206
    },
    "id": "2PBJpjPa_v0_",
    "outputId": "5920a794-0fb6-4ecf-9b54-5969a2df21ea"
   },
   "outputs": [
    {
     "data": {
      "text/html": [
       "<div>\n",
       "<style scoped>\n",
       "    .dataframe tbody tr th:only-of-type {\n",
       "        vertical-align: middle;\n",
       "    }\n",
       "\n",
       "    .dataframe tbody tr th {\n",
       "        vertical-align: top;\n",
       "    }\n",
       "\n",
       "    .dataframe thead th {\n",
       "        text-align: right;\n",
       "    }\n",
       "</style>\n",
       "<table border=\"1\" class=\"dataframe\">\n",
       "  <thead>\n",
       "    <tr style=\"text-align: right;\">\n",
       "      <th></th>\n",
       "      <th>Country</th>\n",
       "      <th>Region</th>\n",
       "      <th>Subregion</th>\n",
       "      <th>Category</th>\n",
       "      <th>Year</th>\n",
       "      <th>VALUE</th>\n",
       "    </tr>\n",
       "  </thead>\n",
       "  <tbody>\n",
       "    <tr>\n",
       "      <th>0</th>\n",
       "      <td>Armenia</td>\n",
       "      <td>Asia</td>\n",
       "      <td>Western Asia</td>\n",
       "      <td>Corruption</td>\n",
       "      <td>2013</td>\n",
       "      <td>782.0</td>\n",
       "    </tr>\n",
       "    <tr>\n",
       "      <th>1</th>\n",
       "      <td>Austria</td>\n",
       "      <td>Europe</td>\n",
       "      <td>Western Europe</td>\n",
       "      <td>Corruption</td>\n",
       "      <td>2013</td>\n",
       "      <td>3439.0</td>\n",
       "    </tr>\n",
       "    <tr>\n",
       "      <th>2</th>\n",
       "      <td>Switzerland</td>\n",
       "      <td>Europe</td>\n",
       "      <td>Western Europe</td>\n",
       "      <td>Corruption</td>\n",
       "      <td>2013</td>\n",
       "      <td>4884.0</td>\n",
       "    </tr>\n",
       "    <tr>\n",
       "      <th>3</th>\n",
       "      <td>Chile</td>\n",
       "      <td>Americas</td>\n",
       "      <td>Latin America and the Caribbean</td>\n",
       "      <td>Corruption</td>\n",
       "      <td>2013</td>\n",
       "      <td>339.0</td>\n",
       "    </tr>\n",
       "    <tr>\n",
       "      <th>4</th>\n",
       "      <td>Colombia</td>\n",
       "      <td>Americas</td>\n",
       "      <td>Latin America and the Caribbean</td>\n",
       "      <td>Corruption</td>\n",
       "      <td>2013</td>\n",
       "      <td>23483.0</td>\n",
       "    </tr>\n",
       "  </tbody>\n",
       "</table>\n",
       "</div>"
      ],
      "text/plain": [
       "       Country    Region                        Subregion    Category  Year  \\\n",
       "0      Armenia      Asia                     Western Asia  Corruption  2013   \n",
       "1      Austria    Europe                   Western Europe  Corruption  2013   \n",
       "2  Switzerland    Europe                   Western Europe  Corruption  2013   \n",
       "3        Chile  Americas  Latin America and the Caribbean  Corruption  2013   \n",
       "4     Colombia  Americas  Latin America and the Caribbean  Corruption  2013   \n",
       "\n",
       "     VALUE  \n",
       "0    782.0  \n",
       "1   3439.0  \n",
       "2   4884.0  \n",
       "3    339.0  \n",
       "4  23483.0  "
      ]
     },
     "execution_count": 28,
     "metadata": {},
     "output_type": "execute_result"
    }
   ],
   "source": [
    "theftCrime.head()"
   ]
  },
  {
   "cell_type": "code",
   "execution_count": 142,
   "metadata": {
    "id": "RrVsF5XV_1Rj"
   },
   "outputs": [],
   "source": []
  }
 ],
 "metadata": {
  "colab": {
   "provenance": []
  },
  "kernelspec": {
   "display_name": "Python 3 (ipykernel)",
   "language": "python",
   "name": "python3"
  },
  "language_info": {
   "codemirror_mode": {
    "name": "ipython",
    "version": 3
   },
   "file_extension": ".py",
   "mimetype": "text/x-python",
   "name": "python",
   "nbconvert_exporter": "python",
   "pygments_lexer": "ipython3",
   "version": "3.9.13"
  }
 },
 "nbformat": 4,
 "nbformat_minor": 1
}
