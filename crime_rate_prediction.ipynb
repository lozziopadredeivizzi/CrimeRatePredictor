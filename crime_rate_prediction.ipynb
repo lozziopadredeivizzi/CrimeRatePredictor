{
  "nbformat": 4,
  "nbformat_minor": 0,
  "metadata": {
    "colab": {
      "provenance": []
    },
    "kernelspec": {
      "name": "python3",
      "display_name": "Python 3"
    },
    "language_info": {
      "name": "python"
    }
  },
  "cells": [
    {
      "cell_type": "code",
      "execution_count": null,
      "metadata": {
        "id": "yqbY6m-Mkyh9"
      },
      "outputs": [],
      "source": []
    },
    {
      "cell_type": "markdown",
      "source": [
        "# Prevedere il crime rate"
      ],
      "metadata": {
        "id": "fNb4i8jok555"
      }
    },
    {
      "cell_type": "markdown",
      "source": [
        "## Caricamento Librerie\n",
        "Per prima cosa carichiamo le librerie per effettuare operazioni sui dati\n",
        "\n",
        "*   NumPy per creare e operare su array a N dimensioni\n",
        "*   pandas per caricare e manipolare dati tabulari\n",
        "*   matplotlib per creare grafici\n",
        "\n",
        "Importiamo le librerie usando i loro alias convenzionali"
      ],
      "metadata": {
        "id": "rysI7JqSlnlx"
      }
    },
    {
      "cell_type": "code",
      "source": [
        "import numpy as np\n",
        "import pandas as pd\n",
        "import matplotlib.pyplot as plt\n",
        "import sklearn\n",
        "%matplotlib inline"
      ],
      "metadata": {
        "id": "6OuaXWY9k8qK"
      },
      "execution_count": 1,
      "outputs": []
    },
    {
      "cell_type": "markdown",
      "source": [
        "## Caricamento dei dati\n",
        "I dataset presi sono satti scricati dal sito uffucuale delle nazioni unite (da completare)"
      ],
      "metadata": {
        "id": "n_H4KS_El8i8"
      }
    },
    {
      "cell_type": "code",
      "source": [
        "import os.path\n",
        "file = \"crime_rate.csv\""
      ],
      "metadata": {
        "id": "Y5PQDf8qmIL7"
      },
      "execution_count": null,
      "outputs": []
    }
  ]
}