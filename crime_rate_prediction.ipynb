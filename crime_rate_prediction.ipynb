{
 "cells": [
  {
   "cell_type": "markdown",
   "metadata": {
    "id": "fNb4i8jok555"
   },
   "source": [
    "# Prevedere il crime rate"
   ]
  },
  {
   "cell_type": "markdown",
   "metadata": {
    "id": "rysI7JqSlnlx"
   },
   "source": [
    "## Caricamento Librerie\n",
    "Per prima cosa carichiamo le librerie per effettuare operazioni sui dati\n",
    "\n",
    "*   NumPy per creare e operare su array a N dimensioni\n",
    "*   pandas per caricare e manipolare dati tabulari\n",
    "*   matplotlib per creare grafici\n",
    "\n",
    "Importiamo le librerie usando i loro alias convenzionali"
   ]
  },
  {
   "cell_type": "code",
   "execution_count": 1,
   "metadata": {
    "id": "6OuaXWY9k8qK"
   },
   "outputs": [],
   "source": [
    "import numpy as np\n",
    "import pandas as pd\n",
    "import matplotlib.pyplot as plt\n",
    "import sklearn\n",
    "%matplotlib inline"
   ]
  },
  {
   "cell_type": "markdown",
   "metadata": {
    "id": "n_H4KS_El8i8"
   },
   "source": [
    "## Caricamento dei dati\n",
    "I dataset presi sono satti scricati dal sito ufficile delle nazioni unite https://dataunodc.un.org/ , e contengono varie informazioni tra cui:\n",
    "*  Kidnapping\n",
    "*  Rape\n",
    "*  Drug Trafficking\n",
    "*  Sexual assault\n",
    "*  Burglary and Theft (insieme)\n",
    "*  Homicide\n",
    "I dataset presentano tutti dati dal 2013 al 2022 delle varie nazioni del mondo"
   ]
  },
  {
   "cell_type": "markdown",
   "metadata": {
    "id": "CzwilWAiqnMI"
   },
   "source": [
    "### Significato delle colonne\n",
    "In tutti i dataset che prendiamo in considerazione abbiamo le varie colonne:\n",
    "*  Nation\n",
    "*"
   ]
  },
  {
   "cell_type": "markdown",
   "metadata": {
    "id": "_2XwUnhe9lvD",
    "tags": []
   },
   "source": [
    "## Crimini per furto"
   ]
  },
  {
   "cell_type": "code",
   "execution_count": 2,
   "metadata": {
    "id": "Y5PQDf8qmIL7"
   },
   "outputs": [],
   "source": [
    "import os.path\n",
    "file = \"data_cts_corruption_and_economic_crime.csv\"\n",
    "if not os.path.exists(file):\n",
    "    print(\"Missing dataset\")\n",
    "else:\n",
    "  theftCrime = pd.read_csv(file, index_col=False, encoding='latin1')"
   ]
  },
  {
   "cell_type": "code",
   "execution_count": 3,
   "metadata": {
    "colab": {
     "base_uri": "https://localhost:8080/"
    },
    "id": "AZPwtokEqEtn",
    "outputId": "043b968b-f634-4dea-8a58-0618ae8f9f86"
   },
   "outputs": [
    {
     "name": "stdout",
     "output_type": "stream",
     "text": [
      "<class 'pandas.core.frame.DataFrame'>\n",
      "RangeIndex: 22754 entries, 0 to 22753\n",
      "Data columns (total 13 columns):\n",
      " #   Column               Non-Null Count  Dtype  \n",
      "---  ------               --------------  -----  \n",
      " 0   Iso3_code            22754 non-null  object \n",
      " 1   Country              22754 non-null  object \n",
      " 2   Region               22754 non-null  object \n",
      " 3   Subregion            22754 non-null  object \n",
      " 4   Indicator            22754 non-null  object \n",
      " 5   Dimension            22754 non-null  object \n",
      " 6   Category             22754 non-null  object \n",
      " 7   Sex                  22754 non-null  object \n",
      " 8   Age                  22754 non-null  object \n",
      " 9   Year                 22754 non-null  int64  \n",
      " 10  Unit of measurement  22754 non-null  object \n",
      " 11  VALUE                22754 non-null  float64\n",
      " 12  Source               22754 non-null  object \n",
      "dtypes: float64(1), int64(1), object(11)\n",
      "memory usage: 16.5 MB\n"
     ]
    }
   ],
   "source": [
    "theftCrime.info(memory_usage='deep')"
   ]
  },
  {
   "cell_type": "code",
   "execution_count": 4,
   "metadata": {
    "colab": {
     "base_uri": "https://localhost:8080/",
     "height": 310
    },
    "id": "xVa9t7oeqbH6",
    "outputId": "5cf8f54d-5966-4b76-e0a3-e55180859eb1"
   },
   "outputs": [
    {
     "data": {
      "text/html": [
       "<div>\n",
       "<style scoped>\n",
       "    .dataframe tbody tr th:only-of-type {\n",
       "        vertical-align: middle;\n",
       "    }\n",
       "\n",
       "    .dataframe tbody tr th {\n",
       "        vertical-align: top;\n",
       "    }\n",
       "\n",
       "    .dataframe thead th {\n",
       "        text-align: right;\n",
       "    }\n",
       "</style>\n",
       "<table border=\"1\" class=\"dataframe\">\n",
       "  <thead>\n",
       "    <tr style=\"text-align: right;\">\n",
       "      <th></th>\n",
       "      <th>Iso3_code</th>\n",
       "      <th>Country</th>\n",
       "      <th>Region</th>\n",
       "      <th>Subregion</th>\n",
       "      <th>Indicator</th>\n",
       "      <th>Dimension</th>\n",
       "      <th>Category</th>\n",
       "      <th>Sex</th>\n",
       "      <th>Age</th>\n",
       "      <th>Year</th>\n",
       "      <th>Unit of measurement</th>\n",
       "      <th>VALUE</th>\n",
       "      <th>Source</th>\n",
       "    </tr>\n",
       "  </thead>\n",
       "  <tbody>\n",
       "    <tr>\n",
       "      <th>0</th>\n",
       "      <td>ARM</td>\n",
       "      <td>Armenia</td>\n",
       "      <td>Asia</td>\n",
       "      <td>Western Asia</td>\n",
       "      <td>Offences</td>\n",
       "      <td>by type of offence</td>\n",
       "      <td>Corruption</td>\n",
       "      <td>Total</td>\n",
       "      <td>Total</td>\n",
       "      <td>2013</td>\n",
       "      <td>Counts</td>\n",
       "      <td>782.0</td>\n",
       "      <td>CTS</td>\n",
       "    </tr>\n",
       "    <tr>\n",
       "      <th>1</th>\n",
       "      <td>AUT</td>\n",
       "      <td>Austria</td>\n",
       "      <td>Europe</td>\n",
       "      <td>Western Europe</td>\n",
       "      <td>Offences</td>\n",
       "      <td>by type of offence</td>\n",
       "      <td>Corruption</td>\n",
       "      <td>Total</td>\n",
       "      <td>Total</td>\n",
       "      <td>2013</td>\n",
       "      <td>Counts</td>\n",
       "      <td>3439.0</td>\n",
       "      <td>CTS</td>\n",
       "    </tr>\n",
       "    <tr>\n",
       "      <th>2</th>\n",
       "      <td>CHE</td>\n",
       "      <td>Switzerland</td>\n",
       "      <td>Europe</td>\n",
       "      <td>Western Europe</td>\n",
       "      <td>Offences</td>\n",
       "      <td>by type of offence</td>\n",
       "      <td>Corruption</td>\n",
       "      <td>Total</td>\n",
       "      <td>Total</td>\n",
       "      <td>2013</td>\n",
       "      <td>Counts</td>\n",
       "      <td>4884.0</td>\n",
       "      <td>CTS</td>\n",
       "    </tr>\n",
       "    <tr>\n",
       "      <th>3</th>\n",
       "      <td>CHL</td>\n",
       "      <td>Chile</td>\n",
       "      <td>Americas</td>\n",
       "      <td>Latin America and the Caribbean</td>\n",
       "      <td>Offences</td>\n",
       "      <td>by type of offence</td>\n",
       "      <td>Corruption</td>\n",
       "      <td>Total</td>\n",
       "      <td>Total</td>\n",
       "      <td>2013</td>\n",
       "      <td>Counts</td>\n",
       "      <td>339.0</td>\n",
       "      <td>CTS</td>\n",
       "    </tr>\n",
       "    <tr>\n",
       "      <th>4</th>\n",
       "      <td>COL</td>\n",
       "      <td>Colombia</td>\n",
       "      <td>Americas</td>\n",
       "      <td>Latin America and the Caribbean</td>\n",
       "      <td>Offences</td>\n",
       "      <td>by type of offence</td>\n",
       "      <td>Corruption</td>\n",
       "      <td>Total</td>\n",
       "      <td>Total</td>\n",
       "      <td>2013</td>\n",
       "      <td>Counts</td>\n",
       "      <td>23483.0</td>\n",
       "      <td>CTS</td>\n",
       "    </tr>\n",
       "  </tbody>\n",
       "</table>\n",
       "</div>"
      ],
      "text/plain": [
       "  Iso3_code      Country    Region                        Subregion Indicator  \\\n",
       "0       ARM      Armenia      Asia                     Western Asia  Offences   \n",
       "1       AUT      Austria    Europe                   Western Europe  Offences   \n",
       "2       CHE  Switzerland    Europe                   Western Europe  Offences   \n",
       "3       CHL        Chile  Americas  Latin America and the Caribbean  Offences   \n",
       "4       COL     Colombia  Americas  Latin America and the Caribbean  Offences   \n",
       "\n",
       "            Dimension    Category    Sex    Age  Year Unit of measurement  \\\n",
       "0  by type of offence  Corruption  Total  Total  2013              Counts   \n",
       "1  by type of offence  Corruption  Total  Total  2013              Counts   \n",
       "2  by type of offence  Corruption  Total  Total  2013              Counts   \n",
       "3  by type of offence  Corruption  Total  Total  2013              Counts   \n",
       "4  by type of offence  Corruption  Total  Total  2013              Counts   \n",
       "\n",
       "     VALUE Source  \n",
       "0    782.0    CTS  \n",
       "1   3439.0    CTS  \n",
       "2   4884.0    CTS  \n",
       "3    339.0    CTS  \n",
       "4  23483.0    CTS  "
      ]
     },
     "execution_count": 4,
     "metadata": {},
     "output_type": "execute_result"
    }
   ],
   "source": [
    "theftCrime.head()"
   ]
  },
  {
   "cell_type": "code",
   "execution_count": 5,
   "metadata": {
    "colab": {
     "base_uri": "https://localhost:8080/"
    },
    "id": "mPdJ3ker-uWN",
    "outputId": "f3f58e3f-4d30-4543-e780-5922d36684b9"
   },
   "outputs": [
    {
     "data": {
      "text/plain": [
       "(22754, 13)"
      ]
     },
     "execution_count": 5,
     "metadata": {},
     "output_type": "execute_result"
    }
   ],
   "source": [
    "theftCrime.shape"
   ]
  },
  {
   "cell_type": "code",
   "execution_count": 6,
   "metadata": {
    "colab": {
     "base_uri": "https://localhost:8080/",
     "height": 300
    },
    "id": "gFBYk4TPqfjQ",
    "outputId": "81d36dbc-acc3-4338-ee05-a61aec8577ba"
   },
   "outputs": [
    {
     "data": {
      "text/html": [
       "<div>\n",
       "<style scoped>\n",
       "    .dataframe tbody tr th:only-of-type {\n",
       "        vertical-align: middle;\n",
       "    }\n",
       "\n",
       "    .dataframe tbody tr th {\n",
       "        vertical-align: top;\n",
       "    }\n",
       "\n",
       "    .dataframe thead th {\n",
       "        text-align: right;\n",
       "    }\n",
       "</style>\n",
       "<table border=\"1\" class=\"dataframe\">\n",
       "  <thead>\n",
       "    <tr style=\"text-align: right;\">\n",
       "      <th></th>\n",
       "      <th>Year</th>\n",
       "      <th>VALUE</th>\n",
       "    </tr>\n",
       "  </thead>\n",
       "  <tbody>\n",
       "    <tr>\n",
       "      <th>count</th>\n",
       "      <td>22754.000000</td>\n",
       "      <td>2.275400e+04</td>\n",
       "    </tr>\n",
       "    <tr>\n",
       "      <th>mean</th>\n",
       "      <td>2015.348159</td>\n",
       "      <td>2.675275e+04</td>\n",
       "    </tr>\n",
       "    <tr>\n",
       "      <th>std</th>\n",
       "      <td>5.059154</td>\n",
       "      <td>2.134465e+05</td>\n",
       "    </tr>\n",
       "    <tr>\n",
       "      <th>min</th>\n",
       "      <td>2003.000000</td>\n",
       "      <td>0.000000e+00</td>\n",
       "    </tr>\n",
       "    <tr>\n",
       "      <th>25%</th>\n",
       "      <td>2013.000000</td>\n",
       "      <td>6.000000e+00</td>\n",
       "    </tr>\n",
       "    <tr>\n",
       "      <th>50%</th>\n",
       "      <td>2017.000000</td>\n",
       "      <td>1.272963e+02</td>\n",
       "    </tr>\n",
       "    <tr>\n",
       "      <th>75%</th>\n",
       "      <td>2019.000000</td>\n",
       "      <td>1.484817e+03</td>\n",
       "    </tr>\n",
       "    <tr>\n",
       "      <th>max</th>\n",
       "      <td>2022.000000</td>\n",
       "      <td>7.026802e+06</td>\n",
       "    </tr>\n",
       "  </tbody>\n",
       "</table>\n",
       "</div>"
      ],
      "text/plain": [
       "               Year         VALUE\n",
       "count  22754.000000  2.275400e+04\n",
       "mean    2015.348159  2.675275e+04\n",
       "std        5.059154  2.134465e+05\n",
       "min     2003.000000  0.000000e+00\n",
       "25%     2013.000000  6.000000e+00\n",
       "50%     2017.000000  1.272963e+02\n",
       "75%     2019.000000  1.484817e+03\n",
       "max     2022.000000  7.026802e+06"
      ]
     },
     "execution_count": 6,
     "metadata": {},
     "output_type": "execute_result"
    }
   ],
   "source": [
    "theftCrime.describe()"
   ]
  },
  {
   "cell_type": "markdown",
   "metadata": {
    "id": "vpTvWN6ksJZL"
   },
   "source": [
    "### Preprocessing dei dati\n",
    "Filtrimo il dataframe utilizzando come unità solo 'Counts' inevce che 'Rate per 100,000 population'. Effettuiamo quindi una prima scrematura dei dati"
   ]
  },
  {
   "cell_type": "code",
   "execution_count": 7,
   "metadata": {
    "id": "mCKiDKTrtdIC"
   },
   "outputs": [],
   "source": [
    "theftCrime = theftCrime[theftCrime['Unit of measurement'] != \"Rate per 100,000 population\"]"
   ]
  },
  {
   "cell_type": "code",
   "execution_count": 8,
   "metadata": {
    "colab": {
     "base_uri": "https://localhost:8080/"
    },
    "id": "868wZ_RW8mln",
    "outputId": "1f511dbd-2800-4062-87e0-da7637c76ebd"
   },
   "outputs": [
    {
     "data": {
      "text/plain": [
       "(11377, 13)"
      ]
     },
     "execution_count": 8,
     "metadata": {},
     "output_type": "execute_result"
    }
   ],
   "source": [
    "theftCrime.shape"
   ]
  },
  {
   "cell_type": "markdown",
   "metadata": {
    "id": "yFddJpCm-z2K"
   },
   "source": [
    "Analizzando il dataframe, le feature 'Age', 'Sex', 'Iso3_code', 'Dimension', 'Unit of measurement'e 'Source' non sono rilevanti per il nostro modello, perciò effetuiamo la loro rimozione."
   ]
  },
  {
   "cell_type": "markdown",
   "metadata": {
    "id": "xlx3y7pTqnMP"
   },
   "source": [
    "Rinominiamo inoltre la colonna `VALUE` in `Value`"
   ]
  },
  {
   "cell_type": "code",
   "execution_count": 9,
   "metadata": {
    "id": "udFZ_ieC86YO"
   },
   "outputs": [],
   "source": [
    "theftCrime.rename(columns={'VALUE':'Value'}, inplace=True)\n",
    "theftCrime = theftCrime.drop(['Unit of measurement', 'Sex', 'Iso3_code', 'Age', 'Source', 'Dimension', 'Indicator'], axis=1)"
   ]
  },
  {
   "cell_type": "code",
   "execution_count": 10,
   "metadata": {
    "colab": {
     "base_uri": "https://localhost:8080/",
     "height": 206
    },
    "id": "2PBJpjPa_v0_",
    "outputId": "bc20af86-dca1-4180-d774-65cb5af37df2"
   },
   "outputs": [
    {
     "data": {
      "text/html": [
       "<div>\n",
       "<style scoped>\n",
       "    .dataframe tbody tr th:only-of-type {\n",
       "        vertical-align: middle;\n",
       "    }\n",
       "\n",
       "    .dataframe tbody tr th {\n",
       "        vertical-align: top;\n",
       "    }\n",
       "\n",
       "    .dataframe thead th {\n",
       "        text-align: right;\n",
       "    }\n",
       "</style>\n",
       "<table border=\"1\" class=\"dataframe\">\n",
       "  <thead>\n",
       "    <tr style=\"text-align: right;\">\n",
       "      <th></th>\n",
       "      <th>Country</th>\n",
       "      <th>Region</th>\n",
       "      <th>Subregion</th>\n",
       "      <th>Category</th>\n",
       "      <th>Year</th>\n",
       "      <th>Value</th>\n",
       "    </tr>\n",
       "  </thead>\n",
       "  <tbody>\n",
       "    <tr>\n",
       "      <th>0</th>\n",
       "      <td>Armenia</td>\n",
       "      <td>Asia</td>\n",
       "      <td>Western Asia</td>\n",
       "      <td>Corruption</td>\n",
       "      <td>2013</td>\n",
       "      <td>782.0</td>\n",
       "    </tr>\n",
       "    <tr>\n",
       "      <th>1</th>\n",
       "      <td>Austria</td>\n",
       "      <td>Europe</td>\n",
       "      <td>Western Europe</td>\n",
       "      <td>Corruption</td>\n",
       "      <td>2013</td>\n",
       "      <td>3439.0</td>\n",
       "    </tr>\n",
       "    <tr>\n",
       "      <th>2</th>\n",
       "      <td>Switzerland</td>\n",
       "      <td>Europe</td>\n",
       "      <td>Western Europe</td>\n",
       "      <td>Corruption</td>\n",
       "      <td>2013</td>\n",
       "      <td>4884.0</td>\n",
       "    </tr>\n",
       "    <tr>\n",
       "      <th>3</th>\n",
       "      <td>Chile</td>\n",
       "      <td>Americas</td>\n",
       "      <td>Latin America and the Caribbean</td>\n",
       "      <td>Corruption</td>\n",
       "      <td>2013</td>\n",
       "      <td>339.0</td>\n",
       "    </tr>\n",
       "    <tr>\n",
       "      <th>4</th>\n",
       "      <td>Colombia</td>\n",
       "      <td>Americas</td>\n",
       "      <td>Latin America and the Caribbean</td>\n",
       "      <td>Corruption</td>\n",
       "      <td>2013</td>\n",
       "      <td>23483.0</td>\n",
       "    </tr>\n",
       "  </tbody>\n",
       "</table>\n",
       "</div>"
      ],
      "text/plain": [
       "       Country    Region                        Subregion    Category  Year  \\\n",
       "0      Armenia      Asia                     Western Asia  Corruption  2013   \n",
       "1      Austria    Europe                   Western Europe  Corruption  2013   \n",
       "2  Switzerland    Europe                   Western Europe  Corruption  2013   \n",
       "3        Chile  Americas  Latin America and the Caribbean  Corruption  2013   \n",
       "4     Colombia  Americas  Latin America and the Caribbean  Corruption  2013   \n",
       "\n",
       "     Value  \n",
       "0    782.0  \n",
       "1   3439.0  \n",
       "2   4884.0  \n",
       "3    339.0  \n",
       "4  23483.0  "
      ]
     },
     "execution_count": 10,
     "metadata": {},
     "output_type": "execute_result"
    }
   ],
   "source": [
    "theftCrime.head()"
   ]
  },
  {
   "cell_type": "markdown",
   "metadata": {
    "id": "wf6OvOrgqnMR"
   },
   "source": [
    "Notimao inoltre che, dalle informazioni ricevute nel paragrafo precedente, la maggior parte delle feature tranne `Year` e `Value` sono di tipo `Object`, e questo perchè paython converte automaticamente in tipo objet tuttin i dati che non sono interi. Dunque cambiamo i vari tipi delle feature.\n",
    "Inoltre, rimuoviamo, se vi sono, le varie righe conteneti valori nulli."
   ]
  },
  {
   "cell_type": "code",
   "execution_count": 11,
   "metadata": {
    "colab": {
     "base_uri": "https://localhost:8080/"
    },
    "id": "RrVsF5XV_1Rj",
    "outputId": "05e5d5f1-0efd-45f7-ec47-c2bae7b1a0fe"
   },
   "outputs": [
    {
     "name": "stdout",
     "output_type": "stream",
     "text": [
      "<class 'pandas.core.frame.DataFrame'>\n",
      "Int64Index: 11377 entries, 0 to 11376\n",
      "Data columns (total 6 columns):\n",
      " #   Column     Non-Null Count  Dtype  \n",
      "---  ------     --------------  -----  \n",
      " 0   Country    11377 non-null  string \n",
      " 1   Region     11377 non-null  string \n",
      " 2   Subregion  11377 non-null  string \n",
      " 3   Category   11377 non-null  string \n",
      " 4   Year       11377 non-null  int64  \n",
      " 5   Value      11377 non-null  float64\n",
      "dtypes: float64(1), int64(1), string(4)\n",
      "memory usage: 622.2 KB\n"
     ]
    }
   ],
   "source": [
    "theftCrime[\"Country\"] = theftCrime[\"Country\"].astype(pd.StringDtype())\n",
    "theftCrime[\"Region\"] = theftCrime[\"Region\"].astype(pd.StringDtype())\n",
    "theftCrime[\"Subregion\"] = theftCrime[\"Subregion\"].astype(pd.StringDtype())\n",
    "theftCrime[\"Category\"] = theftCrime[\"Category\"].astype(pd.StringDtype())\n",
    "theftCrime.info()"
   ]
  },
  {
   "cell_type": "code",
   "execution_count": 12,
   "metadata": {
    "colab": {
     "base_uri": "https://localhost:8080/"
    },
    "id": "LUOXKKM-qnMS",
    "outputId": "6320b8d8-9f9f-4da4-d791-d41c4308f753"
   },
   "outputs": [
    {
     "data": {
      "text/plain": [
       "(11377, 6)"
      ]
     },
     "execution_count": 12,
     "metadata": {},
     "output_type": "execute_result"
    }
   ],
   "source": [
    "theftCrime.dropna()\n",
    "theftCrime.shape"
   ]
  },
  {
   "cell_type": "markdown",
   "metadata": {
    "id": "CgVfYqHMqnMS"
   },
   "source": [
    "Notiamo che il nostro dataset non contiene valori nulli in quanto la shape non è cambiata.\n",
    "\n",
    "Contiamo anche il numero di paesi nel nostro dataset."
   ]
  },
  {
   "cell_type": "code",
   "execution_count": 13,
   "metadata": {
    "colab": {
     "base_uri": "https://localhost:8080/"
    },
    "id": "r3NxuPNrqnMS",
    "outputId": "2aaaecc3-0c86-4f23-9573-0d1484c1a499"
   },
   "outputs": [
    {
     "name": "stdout",
     "output_type": "stream",
     "text": [
      "Numero totale di paesi: 157\n"
     ]
    }
   ],
   "source": [
    "print(f\"Numero totale di paesi: {theftCrime['Country'].unique().size}\")"
   ]
  },
  {
   "cell_type": "markdown",
   "metadata": {
    "id": "Ka1_yPcnr64o"
   },
   "source": [
    "## Crimini per omicidio"
   ]
  },
  {
   "cell_type": "code",
   "execution_count": 14,
   "metadata": {
    "id": "yGJJOmD_sMmX"
   },
   "outputs": [],
   "source": [
    "import os.path\n",
    "file = \"data_cts_intentional_homicide.csv\"\n",
    "if not os.path.exists(file):\n",
    "    print(\"Missing dataset\")\n",
    "else:\n",
    "  homicideCrime = pd.read_csv(file, index_col=False, encoding='latin1')"
   ]
  },
  {
   "cell_type": "code",
   "execution_count": 15,
   "metadata": {
    "colab": {
     "base_uri": "https://localhost:8080/"
    },
    "id": "CrawPhpXsQM0",
    "outputId": "f84a78e2-af2e-48d9-a922-beb5b8973b7b"
   },
   "outputs": [
    {
     "name": "stdout",
     "output_type": "stream",
     "text": [
      "<class 'pandas.core.frame.DataFrame'>\n",
      "RangeIndex: 117070 entries, 0 to 117069\n",
      "Data columns (total 13 columns):\n",
      " #   Column               Non-Null Count   Dtype  \n",
      "---  ------               --------------   -----  \n",
      " 0   Iso3_code            117070 non-null  object \n",
      " 1   Country              117070 non-null  object \n",
      " 2   Region               117070 non-null  object \n",
      " 3   Subregion            117070 non-null  object \n",
      " 4   Indicator            117070 non-null  object \n",
      " 5   Dimension            117070 non-null  object \n",
      " 6   Category             117070 non-null  object \n",
      " 7   Sex                  117070 non-null  object \n",
      " 8   Age                  117070 non-null  object \n",
      " 9   Year                 117070 non-null  int64  \n",
      " 10  Unit of measurement  117070 non-null  object \n",
      " 11  VALUE                117070 non-null  float64\n",
      " 12  Source               117070 non-null  object \n",
      "dtypes: float64(1), int64(1), object(11)\n",
      "memory usage: 87.4 MB\n"
     ]
    }
   ],
   "source": [
    "homicideCrime.info(memory_usage='deep')"
   ]
  },
  {
   "cell_type": "code",
   "execution_count": 16,
   "metadata": {
    "colab": {
     "base_uri": "https://localhost:8080/",
     "height": 397
    },
    "id": "yFmIwbFUsXR_",
    "outputId": "ba4d6a16-5933-4b32-a60a-b56b8f0acf89"
   },
   "outputs": [
    {
     "data": {
      "text/html": [
       "<div>\n",
       "<style scoped>\n",
       "    .dataframe tbody tr th:only-of-type {\n",
       "        vertical-align: middle;\n",
       "    }\n",
       "\n",
       "    .dataframe tbody tr th {\n",
       "        vertical-align: top;\n",
       "    }\n",
       "\n",
       "    .dataframe thead th {\n",
       "        text-align: right;\n",
       "    }\n",
       "</style>\n",
       "<table border=\"1\" class=\"dataframe\">\n",
       "  <thead>\n",
       "    <tr style=\"text-align: right;\">\n",
       "      <th></th>\n",
       "      <th>Iso3_code</th>\n",
       "      <th>Country</th>\n",
       "      <th>Region</th>\n",
       "      <th>Subregion</th>\n",
       "      <th>Indicator</th>\n",
       "      <th>Dimension</th>\n",
       "      <th>Category</th>\n",
       "      <th>Sex</th>\n",
       "      <th>Age</th>\n",
       "      <th>Year</th>\n",
       "      <th>Unit of measurement</th>\n",
       "      <th>VALUE</th>\n",
       "      <th>Source</th>\n",
       "    </tr>\n",
       "  </thead>\n",
       "  <tbody>\n",
       "    <tr>\n",
       "      <th>0</th>\n",
       "      <td>ARM</td>\n",
       "      <td>Armenia</td>\n",
       "      <td>Asia</td>\n",
       "      <td>Western Asia</td>\n",
       "      <td>Persons arrested/suspected for intentional hom...</td>\n",
       "      <td>by citizenship</td>\n",
       "      <td>National citizens</td>\n",
       "      <td>Male</td>\n",
       "      <td>Total</td>\n",
       "      <td>2013</td>\n",
       "      <td>Counts</td>\n",
       "      <td>35.0</td>\n",
       "      <td>CTS</td>\n",
       "    </tr>\n",
       "    <tr>\n",
       "      <th>1</th>\n",
       "      <td>CHE</td>\n",
       "      <td>Switzerland</td>\n",
       "      <td>Europe</td>\n",
       "      <td>Western Europe</td>\n",
       "      <td>Persons arrested/suspected for intentional hom...</td>\n",
       "      <td>by citizenship</td>\n",
       "      <td>National citizens</td>\n",
       "      <td>Male</td>\n",
       "      <td>Total</td>\n",
       "      <td>2013</td>\n",
       "      <td>Counts</td>\n",
       "      <td>28.0</td>\n",
       "      <td>CTS</td>\n",
       "    </tr>\n",
       "    <tr>\n",
       "      <th>2</th>\n",
       "      <td>COL</td>\n",
       "      <td>Colombia</td>\n",
       "      <td>Americas</td>\n",
       "      <td>Latin America and the Caribbean</td>\n",
       "      <td>Persons arrested/suspected for intentional hom...</td>\n",
       "      <td>by citizenship</td>\n",
       "      <td>National citizens</td>\n",
       "      <td>Male</td>\n",
       "      <td>Total</td>\n",
       "      <td>2013</td>\n",
       "      <td>Counts</td>\n",
       "      <td>15053.0</td>\n",
       "      <td>CTS</td>\n",
       "    </tr>\n",
       "    <tr>\n",
       "      <th>3</th>\n",
       "      <td>CZE</td>\n",
       "      <td>Czechia</td>\n",
       "      <td>Europe</td>\n",
       "      <td>Eastern Europe</td>\n",
       "      <td>Persons arrested/suspected for intentional hom...</td>\n",
       "      <td>by citizenship</td>\n",
       "      <td>National citizens</td>\n",
       "      <td>Male</td>\n",
       "      <td>Total</td>\n",
       "      <td>2013</td>\n",
       "      <td>Counts</td>\n",
       "      <td>69.0</td>\n",
       "      <td>CTS</td>\n",
       "    </tr>\n",
       "    <tr>\n",
       "      <th>4</th>\n",
       "      <td>DEU</td>\n",
       "      <td>Germany</td>\n",
       "      <td>Europe</td>\n",
       "      <td>Western Europe</td>\n",
       "      <td>Persons arrested/suspected for intentional hom...</td>\n",
       "      <td>by citizenship</td>\n",
       "      <td>National citizens</td>\n",
       "      <td>Male</td>\n",
       "      <td>Total</td>\n",
       "      <td>2013</td>\n",
       "      <td>Counts</td>\n",
       "      <td>455.0</td>\n",
       "      <td>CTS</td>\n",
       "    </tr>\n",
       "  </tbody>\n",
       "</table>\n",
       "</div>"
      ],
      "text/plain": [
       "  Iso3_code      Country    Region                        Subregion  \\\n",
       "0       ARM      Armenia      Asia                     Western Asia   \n",
       "1       CHE  Switzerland    Europe                   Western Europe   \n",
       "2       COL     Colombia  Americas  Latin America and the Caribbean   \n",
       "3       CZE      Czechia    Europe                   Eastern Europe   \n",
       "4       DEU      Germany    Europe                   Western Europe   \n",
       "\n",
       "                                           Indicator       Dimension  \\\n",
       "0  Persons arrested/suspected for intentional hom...  by citizenship   \n",
       "1  Persons arrested/suspected for intentional hom...  by citizenship   \n",
       "2  Persons arrested/suspected for intentional hom...  by citizenship   \n",
       "3  Persons arrested/suspected for intentional hom...  by citizenship   \n",
       "4  Persons arrested/suspected for intentional hom...  by citizenship   \n",
       "\n",
       "            Category   Sex    Age  Year Unit of measurement    VALUE Source  \n",
       "0  National citizens  Male  Total  2013              Counts     35.0    CTS  \n",
       "1  National citizens  Male  Total  2013              Counts     28.0    CTS  \n",
       "2  National citizens  Male  Total  2013              Counts  15053.0    CTS  \n",
       "3  National citizens  Male  Total  2013              Counts     69.0    CTS  \n",
       "4  National citizens  Male  Total  2013              Counts    455.0    CTS  "
      ]
     },
     "execution_count": 16,
     "metadata": {},
     "output_type": "execute_result"
    }
   ],
   "source": [
    "homicideCrime.head()"
   ]
  },
  {
   "cell_type": "code",
   "execution_count": 17,
   "metadata": {
    "colab": {
     "base_uri": "https://localhost:8080/"
    },
    "id": "q1Lw_L9_sYrj",
    "outputId": "d3d1cfcb-dc4c-42cf-ad7c-1aaae2781628"
   },
   "outputs": [
    {
     "data": {
      "text/plain": [
       "(117070, 13)"
      ]
     },
     "execution_count": 17,
     "metadata": {},
     "output_type": "execute_result"
    }
   ],
   "source": [
    "homicideCrime.shape"
   ]
  },
  {
   "cell_type": "code",
   "execution_count": 18,
   "metadata": {
    "colab": {
     "base_uri": "https://localhost:8080/",
     "height": 300
    },
    "id": "fEl0hnCGsaCG",
    "outputId": "bd5059a5-e456-46ec-b216-7919aa78cff2"
   },
   "outputs": [
    {
     "data": {
      "text/html": [
       "<div>\n",
       "<style scoped>\n",
       "    .dataframe tbody tr th:only-of-type {\n",
       "        vertical-align: middle;\n",
       "    }\n",
       "\n",
       "    .dataframe tbody tr th {\n",
       "        vertical-align: top;\n",
       "    }\n",
       "\n",
       "    .dataframe thead th {\n",
       "        text-align: right;\n",
       "    }\n",
       "</style>\n",
       "<table border=\"1\" class=\"dataframe\">\n",
       "  <thead>\n",
       "    <tr style=\"text-align: right;\">\n",
       "      <th></th>\n",
       "      <th>Year</th>\n",
       "      <th>VALUE</th>\n",
       "    </tr>\n",
       "  </thead>\n",
       "  <tbody>\n",
       "    <tr>\n",
       "      <th>count</th>\n",
       "      <td>117070.000000</td>\n",
       "      <td>117070.000000</td>\n",
       "    </tr>\n",
       "    <tr>\n",
       "      <th>mean</th>\n",
       "      <td>2014.886162</td>\n",
       "      <td>733.792988</td>\n",
       "    </tr>\n",
       "    <tr>\n",
       "      <th>std</th>\n",
       "      <td>6.167995</td>\n",
       "      <td>9906.653113</td>\n",
       "    </tr>\n",
       "    <tr>\n",
       "      <th>min</th>\n",
       "      <td>1990.000000</td>\n",
       "      <td>0.000000</td>\n",
       "    </tr>\n",
       "    <tr>\n",
       "      <th>25%</th>\n",
       "      <td>2012.000000</td>\n",
       "      <td>0.243000</td>\n",
       "    </tr>\n",
       "    <tr>\n",
       "      <th>50%</th>\n",
       "      <td>2016.000000</td>\n",
       "      <td>2.556600</td>\n",
       "    </tr>\n",
       "    <tr>\n",
       "      <th>75%</th>\n",
       "      <td>2019.000000</td>\n",
       "      <td>20.935593</td>\n",
       "    </tr>\n",
       "    <tr>\n",
       "      <th>max</th>\n",
       "      <td>2023.000000</td>\n",
       "      <td>457945.484991</td>\n",
       "    </tr>\n",
       "  </tbody>\n",
       "</table>\n",
       "</div>"
      ],
      "text/plain": [
       "                Year          VALUE\n",
       "count  117070.000000  117070.000000\n",
       "mean     2014.886162     733.792988\n",
       "std         6.167995    9906.653113\n",
       "min      1990.000000       0.000000\n",
       "25%      2012.000000       0.243000\n",
       "50%      2016.000000       2.556600\n",
       "75%      2019.000000      20.935593\n",
       "max      2023.000000  457945.484991"
      ]
     },
     "execution_count": 18,
     "metadata": {},
     "output_type": "execute_result"
    }
   ],
   "source": [
    "homicideCrime.describe()"
   ]
  },
  {
   "cell_type": "markdown",
   "metadata": {
    "id": "aDuPRqhfsdCP"
   },
   "source": [
    "### Preprocessing dei dati\n",
    "Filtrimo il dataframe utilizzando come unità solo 'Counts' inevce che 'Rate per 100,000 population'. Effettuiamo quindi una prima scrematura dei dati"
   ]
  },
  {
   "cell_type": "code",
   "execution_count": 19,
   "metadata": {
    "colab": {
     "base_uri": "https://localhost:8080/"
    },
    "id": "mdnf_iUDsgts",
    "outputId": "6220ffa8-bbad-43d3-b9f8-c5bb8d9a652d"
   },
   "outputs": [
    {
     "data": {
      "text/plain": [
       "(62850, 13)"
      ]
     },
     "execution_count": 19,
     "metadata": {},
     "output_type": "execute_result"
    }
   ],
   "source": [
    "homicideCrime = homicideCrime[homicideCrime['Unit of measurement'] != \"Rate per 100,000 population\"]\n",
    "homicideCrime.shape"
   ]
  },
  {
   "cell_type": "markdown",
   "metadata": {
    "id": "xZbZ5eE-s8sJ"
   },
   "source": [
    "Così facendo rimuovimao, come precedentemente, quasi la metà dei dati e allegeriamo così il dataset.\n",
    "\n",
    "Come prima, rimuoviamo anche da questo dataset le feature non rilevanti per lo studio, e rinominiamo la feature `VALUE` come prima in `Value`.\n",
    "\n",
    "Inoltre, effettuiamo anche la conversione delle feature da `Object` in `String`."
   ]
  },
  {
   "cell_type": "code",
   "execution_count": 20,
   "metadata": {
    "colab": {
     "base_uri": "https://localhost:8080/"
    },
    "id": "ZOfPmt09syX5",
    "outputId": "48107c38-4a98-49c4-8653-bab287f7b442"
   },
   "outputs": [
    {
     "name": "stdout",
     "output_type": "stream",
     "text": [
      "<class 'pandas.core.frame.DataFrame'>\n",
      "Int64Index: 62850 entries, 0 to 62849\n",
      "Data columns (total 6 columns):\n",
      " #   Column     Non-Null Count  Dtype  \n",
      "---  ------     --------------  -----  \n",
      " 0   Country    62850 non-null  string \n",
      " 1   Region     62850 non-null  string \n",
      " 2   Subregion  62850 non-null  string \n",
      " 3   Category   62850 non-null  string \n",
      " 4   Year       62850 non-null  int64  \n",
      " 5   Value      62850 non-null  float64\n",
      "dtypes: float64(1), int64(1), string(4)\n",
      "memory usage: 3.4 MB\n"
     ]
    }
   ],
   "source": [
    "homicideCrime.rename(columns={'VALUE':'Value'}, inplace=True)\n",
    "homicideCrime = homicideCrime.drop(['Unit of measurement', 'Sex', 'Iso3_code', 'Age', 'Source', 'Dimension', 'Indicator'], axis=1)\n",
    "homicideCrime[\"Country\"] = homicideCrime[\"Country\"].astype(pd.StringDtype())\n",
    "homicideCrime[\"Region\"] = homicideCrime[\"Region\"].astype(pd.StringDtype())\n",
    "homicideCrime[\"Subregion\"] = homicideCrime[\"Subregion\"].astype(pd.StringDtype())\n",
    "homicideCrime[\"Category\"] = homicideCrime[\"Category\"].astype(pd.StringDtype())\n",
    "homicideCrime.info()"
   ]
  },
  {
   "cell_type": "code",
   "execution_count": 21,
   "metadata": {
    "colab": {
     "base_uri": "https://localhost:8080/",
     "height": 206
    },
    "id": "QpVP-jGvt_z-",
    "outputId": "cd73a7f1-94d0-4c23-a283-a7e12115e6ca"
   },
   "outputs": [
    {
     "data": {
      "text/html": [
       "<div>\n",
       "<style scoped>\n",
       "    .dataframe tbody tr th:only-of-type {\n",
       "        vertical-align: middle;\n",
       "    }\n",
       "\n",
       "    .dataframe tbody tr th {\n",
       "        vertical-align: top;\n",
       "    }\n",
       "\n",
       "    .dataframe thead th {\n",
       "        text-align: right;\n",
       "    }\n",
       "</style>\n",
       "<table border=\"1\" class=\"dataframe\">\n",
       "  <thead>\n",
       "    <tr style=\"text-align: right;\">\n",
       "      <th></th>\n",
       "      <th>Country</th>\n",
       "      <th>Region</th>\n",
       "      <th>Subregion</th>\n",
       "      <th>Category</th>\n",
       "      <th>Year</th>\n",
       "      <th>Value</th>\n",
       "    </tr>\n",
       "  </thead>\n",
       "  <tbody>\n",
       "    <tr>\n",
       "      <th>0</th>\n",
       "      <td>Armenia</td>\n",
       "      <td>Asia</td>\n",
       "      <td>Western Asia</td>\n",
       "      <td>National citizens</td>\n",
       "      <td>2013</td>\n",
       "      <td>35.0</td>\n",
       "    </tr>\n",
       "    <tr>\n",
       "      <th>1</th>\n",
       "      <td>Switzerland</td>\n",
       "      <td>Europe</td>\n",
       "      <td>Western Europe</td>\n",
       "      <td>National citizens</td>\n",
       "      <td>2013</td>\n",
       "      <td>28.0</td>\n",
       "    </tr>\n",
       "    <tr>\n",
       "      <th>2</th>\n",
       "      <td>Colombia</td>\n",
       "      <td>Americas</td>\n",
       "      <td>Latin America and the Caribbean</td>\n",
       "      <td>National citizens</td>\n",
       "      <td>2013</td>\n",
       "      <td>15053.0</td>\n",
       "    </tr>\n",
       "    <tr>\n",
       "      <th>3</th>\n",
       "      <td>Czechia</td>\n",
       "      <td>Europe</td>\n",
       "      <td>Eastern Europe</td>\n",
       "      <td>National citizens</td>\n",
       "      <td>2013</td>\n",
       "      <td>69.0</td>\n",
       "    </tr>\n",
       "    <tr>\n",
       "      <th>4</th>\n",
       "      <td>Germany</td>\n",
       "      <td>Europe</td>\n",
       "      <td>Western Europe</td>\n",
       "      <td>National citizens</td>\n",
       "      <td>2013</td>\n",
       "      <td>455.0</td>\n",
       "    </tr>\n",
       "  </tbody>\n",
       "</table>\n",
       "</div>"
      ],
      "text/plain": [
       "       Country    Region                        Subregion           Category  \\\n",
       "0      Armenia      Asia                     Western Asia  National citizens   \n",
       "1  Switzerland    Europe                   Western Europe  National citizens   \n",
       "2     Colombia  Americas  Latin America and the Caribbean  National citizens   \n",
       "3      Czechia    Europe                   Eastern Europe  National citizens   \n",
       "4      Germany    Europe                   Western Europe  National citizens   \n",
       "\n",
       "   Year    Value  \n",
       "0  2013     35.0  \n",
       "1  2013     28.0  \n",
       "2  2013  15053.0  \n",
       "3  2013     69.0  \n",
       "4  2013    455.0  "
      ]
     },
     "execution_count": 21,
     "metadata": {},
     "output_type": "execute_result"
    }
   ],
   "source": [
    "homicideCrime.head()"
   ]
  },
  {
   "cell_type": "code",
   "execution_count": 22,
   "metadata": {
    "colab": {
     "base_uri": "https://localhost:8080/"
    },
    "id": "r9e1PFIBtbDV",
    "outputId": "12af02d2-ec95-42f9-f6e6-c7a5245d3a01"
   },
   "outputs": [
    {
     "data": {
      "text/plain": [
       "(62850, 6)"
      ]
     },
     "execution_count": 22,
     "metadata": {},
     "output_type": "execute_result"
    }
   ],
   "source": [
    "homicideCrime.dropna()\n",
    "homicideCrime.shape"
   ]
  },
  {
   "cell_type": "markdown",
   "metadata": {
    "id": "QdtM2BIzuFK3"
   },
   "source": [
    "Notimao anche questa volta che la shape del dataset non è cambiata dopo aver effettuato la `dropna()`, il che vuol dire non vi sono presenti righr con valori nulli.\n",
    "\n",
    "\n",
    "\n",
    "Controlliamo il numero di paesi del dataset:"
   ]
  },
  {
   "cell_type": "code",
   "execution_count": 23,
   "metadata": {
    "colab": {
     "base_uri": "https://localhost:8080/"
    },
    "id": "aN-8Ns09t3pB",
    "outputId": "051d7177-52bf-4425-cf69-fed08715ab49"
   },
   "outputs": [
    {
     "name": "stdout",
     "output_type": "stream",
     "text": [
      "Numero totale di paesi: 231\n",
      "I DataFrame non contengono gli stessi paesi.\n"
     ]
    }
   ],
   "source": [
    "print(f\"Numero totale di paesi: {homicideCrime['Country'].unique().size}\")\n",
    "countries_theft = set(theftCrime['Country'])\n",
    "countries_homicide = set(homicideCrime['Country'])\n",
    "\n",
    "# Confronta gli insiemi\n",
    "if countries_theft == countries_homicide:\n",
    "    print(\"Entrambi i DataFrame contengono gli stessi paesi.\")\n",
    "else:\n",
    "    print(\"I DataFrame non contengono gli stessi paesi.\")"
   ]
  },
  {
   "cell_type": "markdown",
   "metadata": {
    "id": "xvgzYNb2uhAM"
   },
   "source": [
    "In questo caso, il numero di peasi è lo stesso del dataset precedente, ma non contiene gli stessi paesi.\n",
    "\n",
    "Dunque, per poter procedere verso il merging dei vari dataset per creare uno solo, bisogna rimuovere da `theftCrime` tutte le righe rigurdanti i paesi non contenuti in `homicideCrime`.\n",
    "\n",
    "Controlliamo intanto i paesi che differenziano da un dataset all'altro."
   ]
  },
  {
   "cell_type": "code",
   "execution_count": 24,
   "metadata": {
    "colab": {
     "base_uri": "https://localhost:8080/"
    },
    "id": "jR47GBdMuec8",
    "outputId": "e5c13d8f-257b-4d88-bcf5-9d85d18cc846"
   },
   "outputs": [
    {
     "name": "stdout",
     "output_type": "stream",
     "text": [
      "Paesi in theftCrime ma non in homicideCrime: {'CÃ´te dâ\\x80\\x99Ivoire', 'Benin', 'Guinea', 'Senegal', 'Sudan'}\n",
      "Numero: 5\n",
      "Paesi in homicideCrime ma non in theftCrime: {'Seychelles', 'All Africa', 'Tonga', 'San Marino', 'Saint Helena', 'Aruba', 'All Oceania', 'Samoa', 'Micronesia', 'Eastern Asia', 'Iraq', 'Southern Europe', 'Vanuatu', 'South Sudan', 'Gibraltar', 'Ethiopia', 'Fiji', 'Papua New Guinea', 'Viet Nam', 'Faroe Islands', 'Greenland', 'Southern Asia', 'South Africa', 'Anguilla', 'All Asia', 'Western Asia', 'Melanesia', 'Turks and Caicos Islands', 'New Caledonia', 'Martinique', 'Eritrea', 'Mauritania', 'British Virgin Islands', 'Iraq (Kurdistan Region)', 'Saint Pierre and Miquelon', 'Marshall Islands', 'Afghanistan', 'Montserrat', 'Polynesia', 'Tuvalu', 'Saint Martin (French Part)', 'American Samoa', 'French Guiana', 'Mayotte', 'Cuba', 'Ghana', 'All Americas', 'Central Asia', 'Isle of Man', 'Angola', 'Cayman Islands', 'French Polynesia', 'Haiti', 'Australia and New Zealand', 'Northern Africa', 'Niger', 'Eastern Europe', 'Guadeloupe', 'Northern America', 'Kiribati', 'Malawi', 'Guam', 'United States Virgin Islands', 'RÃ©union', 'Liberia', 'Latin America and the Caribbean', 'Western Europe', 'Zambia', 'World', 'Cook Islands', 'Cambodia', 'Northern Europe', 'All Europe', 'Tunisia', 'CuraÃ§ao', 'Palau', 'Micronesia (Federated States of)', 'South-eastern Asia', 'Sub-Saharan Africa'}\n",
      "Numero: 79\n"
     ]
    }
   ],
   "source": [
    "different_in_theft = countries_theft - countries_homicide\n",
    "different_in_homicide = countries_homicide - countries_theft\n",
    "\n",
    "if different_in_theft:\n",
    "    print(f\"Paesi in theftCrime ma non in homicideCrime: {different_in_theft}\")\n",
    "    print(f\"Numero: {len(different_in_theft)}\")\n",
    "if different_in_homicide:\n",
    "    print(f\"Paesi in homicideCrime ma non in theftCrime: {different_in_homicide}\")\n",
    "    print(f\"Numero: {len(different_in_homicide)}\")"
   ]
  },
  {
   "cell_type": "code",
   "execution_count": 25,
   "metadata": {
    "colab": {
     "base_uri": "https://localhost:8080/"
    },
    "id": "6zdZoB1vyhMX",
    "outputId": "014ff78a-45a5-441c-968c-849cebfc1866"
   },
   "outputs": [
    {
     "name": "stdout",
     "output_type": "stream",
     "text": [
      "Numero Paesi in comune: 152\n"
     ]
    }
   ],
   "source": [
    "common_countries = countries_theft & countries_homicide\n",
    "print(f\"Numero Paesi in comune: {len(common_countries)}\")"
   ]
  },
  {
   "cell_type": "markdown",
   "metadata": {
    "id": "kE9rkU350cM8"
   },
   "source": [
    "Il numero di paesi in comune è 152, quindi muteremo i due dataset filtrandoli in base ai paesi in comune tra i due."
   ]
  },
  {
   "cell_type": "code",
   "execution_count": 26,
   "metadata": {
    "colab": {
     "base_uri": "https://localhost:8080/"
    },
    "id": "I3P_Lviq0V-Y",
    "outputId": "83ddeb22-9777-4a20-cf79-002b8624ac0c"
   },
   "outputs": [
    {
     "name": "stdout",
     "output_type": "stream",
     "text": [
      "theftCrime: (11355, 6)\n",
      "homicideCrime: (60234, 6)\n"
     ]
    }
   ],
   "source": [
    "theftCrime = theftCrime[theftCrime['Country'].isin(common_countries)]\n",
    "homicideCrime = homicideCrime[homicideCrime['Country'].isin(common_countries)]\n",
    "print(f\"theftCrime: {theftCrime.shape}\")\n",
    "print(f\"homicideCrime: {homicideCrime.shape}\")"
   ]
  },
  {
   "cell_type": "markdown",
   "metadata": {},
   "source": [
    "## Traffico di droghe"
   ]
  },
  {
   "cell_type": "code",
   "execution_count": 272,
   "metadata": {},
   "outputs": [],
   "source": [
    "import os.path\n",
    "file = \"data_cts_prisons_and_prisoners.csv\"\n",
    "if not os.path.exists(file):\n",
    "    print(\"Missing dataset\")\n",
    "else:\n",
    "  drugsCrime = pd.read_csv(file, index_col=False, encoding='latin1')"
   ]
  },
  {
   "cell_type": "code",
   "execution_count": 273,
   "metadata": {},
   "outputs": [
    {
     "name": "stdout",
     "output_type": "stream",
     "text": [
      "<class 'pandas.core.frame.DataFrame'>\n",
      "RangeIndex: 70790 entries, 0 to 70789\n",
      "Data columns (total 13 columns):\n",
      " #   Column               Non-Null Count  Dtype  \n",
      "---  ------               --------------  -----  \n",
      " 0   Iso3_code            70790 non-null  object \n",
      " 1   Country              70790 non-null  object \n",
      " 2   Region               70790 non-null  object \n",
      " 3   Subregion            70790 non-null  object \n",
      " 4   Indicator            70790 non-null  object \n",
      " 5   Dimension            70790 non-null  object \n",
      " 6   Category             70790 non-null  object \n",
      " 7   Sex                  70790 non-null  object \n",
      " 8   Age                  70790 non-null  object \n",
      " 9   Year                 70790 non-null  int64  \n",
      " 10  Unit of measurement  70790 non-null  object \n",
      " 11  VALUE                70790 non-null  float64\n",
      " 12  Source               70790 non-null  object \n",
      "dtypes: float64(1), int64(1), object(11)\n",
      "memory usage: 51.0 MB\n"
     ]
    }
   ],
   "source": [
    "drugsCrime.info(memory_usage='deep')"
   ]
  },
  {
   "cell_type": "code",
   "execution_count": 274,
   "metadata": {},
   "outputs": [
    {
     "data": {
      "text/plain": [
       "(70790, 13)"
      ]
     },
     "execution_count": 274,
     "metadata": {},
     "output_type": "execute_result"
    }
   ],
   "source": [
    "drugsCrime.shape"
   ]
  },
  {
   "cell_type": "code",
   "execution_count": 275,
   "metadata": {},
   "outputs": [
    {
     "data": {
      "text/html": [
       "<div>\n",
       "<style scoped>\n",
       "    .dataframe tbody tr th:only-of-type {\n",
       "        vertical-align: middle;\n",
       "    }\n",
       "\n",
       "    .dataframe tbody tr th {\n",
       "        vertical-align: top;\n",
       "    }\n",
       "\n",
       "    .dataframe thead th {\n",
       "        text-align: right;\n",
       "    }\n",
       "</style>\n",
       "<table border=\"1\" class=\"dataframe\">\n",
       "  <thead>\n",
       "    <tr style=\"text-align: right;\">\n",
       "      <th></th>\n",
       "      <th>Iso3_code</th>\n",
       "      <th>Country</th>\n",
       "      <th>Region</th>\n",
       "      <th>Subregion</th>\n",
       "      <th>Indicator</th>\n",
       "      <th>Dimension</th>\n",
       "      <th>Category</th>\n",
       "      <th>Sex</th>\n",
       "      <th>Age</th>\n",
       "      <th>Year</th>\n",
       "      <th>Unit of measurement</th>\n",
       "      <th>VALUE</th>\n",
       "      <th>Source</th>\n",
       "    </tr>\n",
       "  </thead>\n",
       "  <tbody>\n",
       "    <tr>\n",
       "      <th>0</th>\n",
       "      <td>BRB</td>\n",
       "      <td>Barbados</td>\n",
       "      <td>Americas</td>\n",
       "      <td>Latin America and the Caribbean</td>\n",
       "      <td>Persons entering prison</td>\n",
       "      <td>by selected crime</td>\n",
       "      <td>Intentional Homicide</td>\n",
       "      <td>Total</td>\n",
       "      <td>Total</td>\n",
       "      <td>2016</td>\n",
       "      <td>Counts</td>\n",
       "      <td>0.0</td>\n",
       "      <td>CTS</td>\n",
       "    </tr>\n",
       "    <tr>\n",
       "      <th>1</th>\n",
       "      <td>CRI</td>\n",
       "      <td>Costa Rica</td>\n",
       "      <td>Americas</td>\n",
       "      <td>Latin America and the Caribbean</td>\n",
       "      <td>Persons entering prison</td>\n",
       "      <td>by selected crime</td>\n",
       "      <td>Intentional Homicide</td>\n",
       "      <td>Total</td>\n",
       "      <td>Total</td>\n",
       "      <td>2016</td>\n",
       "      <td>Counts</td>\n",
       "      <td>173.0</td>\n",
       "      <td>CTS</td>\n",
       "    </tr>\n",
       "    <tr>\n",
       "      <th>2</th>\n",
       "      <td>DMA</td>\n",
       "      <td>Dominica</td>\n",
       "      <td>Americas</td>\n",
       "      <td>Latin America and the Caribbean</td>\n",
       "      <td>Persons entering prison</td>\n",
       "      <td>by selected crime</td>\n",
       "      <td>Intentional Homicide</td>\n",
       "      <td>Total</td>\n",
       "      <td>Total</td>\n",
       "      <td>2016</td>\n",
       "      <td>Counts</td>\n",
       "      <td>65.0</td>\n",
       "      <td>CTS</td>\n",
       "    </tr>\n",
       "    <tr>\n",
       "      <th>3</th>\n",
       "      <td>GBR_NI</td>\n",
       "      <td>United Kingdom (Northern Ireland)</td>\n",
       "      <td>Europe</td>\n",
       "      <td>Northern Europe</td>\n",
       "      <td>Persons entering prison</td>\n",
       "      <td>by selected crime</td>\n",
       "      <td>Intentional Homicide</td>\n",
       "      <td>Total</td>\n",
       "      <td>Total</td>\n",
       "      <td>2016</td>\n",
       "      <td>Counts</td>\n",
       "      <td>61.0</td>\n",
       "      <td>CTS</td>\n",
       "    </tr>\n",
       "    <tr>\n",
       "      <th>4</th>\n",
       "      <td>ITA</td>\n",
       "      <td>Italy</td>\n",
       "      <td>Europe</td>\n",
       "      <td>Southern Europe</td>\n",
       "      <td>Persons entering prison</td>\n",
       "      <td>by selected crime</td>\n",
       "      <td>Intentional Homicide</td>\n",
       "      <td>Total</td>\n",
       "      <td>Total</td>\n",
       "      <td>2016</td>\n",
       "      <td>Counts</td>\n",
       "      <td>1443.0</td>\n",
       "      <td>CTS</td>\n",
       "    </tr>\n",
       "  </tbody>\n",
       "</table>\n",
       "</div>"
      ],
      "text/plain": [
       "  Iso3_code                            Country    Region  \\\n",
       "0       BRB                           Barbados  Americas   \n",
       "1       CRI                         Costa Rica  Americas   \n",
       "2       DMA                           Dominica  Americas   \n",
       "3    GBR_NI  United Kingdom (Northern Ireland)    Europe   \n",
       "4       ITA                              Italy    Europe   \n",
       "\n",
       "                         Subregion                Indicator  \\\n",
       "0  Latin America and the Caribbean  Persons entering prison   \n",
       "1  Latin America and the Caribbean  Persons entering prison   \n",
       "2  Latin America and the Caribbean  Persons entering prison   \n",
       "3                  Northern Europe  Persons entering prison   \n",
       "4                  Southern Europe  Persons entering prison   \n",
       "\n",
       "           Dimension              Category    Sex    Age  Year  \\\n",
       "0  by selected crime  Intentional Homicide  Total  Total  2016   \n",
       "1  by selected crime  Intentional Homicide  Total  Total  2016   \n",
       "2  by selected crime  Intentional Homicide  Total  Total  2016   \n",
       "3  by selected crime  Intentional Homicide  Total  Total  2016   \n",
       "4  by selected crime  Intentional Homicide  Total  Total  2016   \n",
       "\n",
       "  Unit of measurement   VALUE Source  \n",
       "0              Counts     0.0    CTS  \n",
       "1              Counts   173.0    CTS  \n",
       "2              Counts    65.0    CTS  \n",
       "3              Counts    61.0    CTS  \n",
       "4              Counts  1443.0    CTS  "
      ]
     },
     "execution_count": 275,
     "metadata": {},
     "output_type": "execute_result"
    }
   ],
   "source": [
    "drugsCrime.head()"
   ]
  },
  {
   "cell_type": "markdown",
   "metadata": {},
   "source": [
    "Filtrimo il dataframe, manteniamo solo i dati che presentano come `Unit of measurement` `Counts` inevce che `Rate per 100,000 population`."
   ]
  },
  {
   "cell_type": "code",
   "execution_count": 276,
   "metadata": {},
   "outputs": [
    {
     "data": {
      "text/plain": [
       "(44997, 13)"
      ]
     },
     "execution_count": 276,
     "metadata": {},
     "output_type": "execute_result"
    }
   ],
   "source": [
    "drugsCrime = drugsCrime[drugsCrime['Unit of measurement'] != \"Rate per 100,000 population\"]\n",
    "drugsCrime.shape"
   ]
  },
  {
   "cell_type": "markdown",
   "metadata": {},
   "source": [
    "Le feature `Iso3_code`, `Indicator`, `Dimension`, `Sex`, `Age`, `Unit of measurement` e `Source` sono inutili per il nostro modello, perciò le rimuoviamo. Inoltre rinomiamo la feature `VALUE` in `Value` e rimuoviamo le eventuali righe contenenti valori null."
   ]
  },
  {
   "cell_type": "code",
   "execution_count": 277,
   "metadata": {},
   "outputs": [
    {
     "data": {
      "text/html": [
       "<div>\n",
       "<style scoped>\n",
       "    .dataframe tbody tr th:only-of-type {\n",
       "        vertical-align: middle;\n",
       "    }\n",
       "\n",
       "    .dataframe tbody tr th {\n",
       "        vertical-align: top;\n",
       "    }\n",
       "\n",
       "    .dataframe thead th {\n",
       "        text-align: right;\n",
       "    }\n",
       "</style>\n",
       "<table border=\"1\" class=\"dataframe\">\n",
       "  <thead>\n",
       "    <tr style=\"text-align: right;\">\n",
       "      <th></th>\n",
       "      <th>Country</th>\n",
       "      <th>Region</th>\n",
       "      <th>Subregion</th>\n",
       "      <th>Category</th>\n",
       "      <th>Year</th>\n",
       "      <th>Value</th>\n",
       "    </tr>\n",
       "  </thead>\n",
       "  <tbody>\n",
       "    <tr>\n",
       "      <th>0</th>\n",
       "      <td>Barbados</td>\n",
       "      <td>Americas</td>\n",
       "      <td>Latin America and the Caribbean</td>\n",
       "      <td>Intentional Homicide</td>\n",
       "      <td>2016</td>\n",
       "      <td>0.0</td>\n",
       "    </tr>\n",
       "    <tr>\n",
       "      <th>1</th>\n",
       "      <td>Costa Rica</td>\n",
       "      <td>Americas</td>\n",
       "      <td>Latin America and the Caribbean</td>\n",
       "      <td>Intentional Homicide</td>\n",
       "      <td>2016</td>\n",
       "      <td>173.0</td>\n",
       "    </tr>\n",
       "    <tr>\n",
       "      <th>2</th>\n",
       "      <td>Dominica</td>\n",
       "      <td>Americas</td>\n",
       "      <td>Latin America and the Caribbean</td>\n",
       "      <td>Intentional Homicide</td>\n",
       "      <td>2016</td>\n",
       "      <td>65.0</td>\n",
       "    </tr>\n",
       "    <tr>\n",
       "      <th>3</th>\n",
       "      <td>United Kingdom (Northern Ireland)</td>\n",
       "      <td>Europe</td>\n",
       "      <td>Northern Europe</td>\n",
       "      <td>Intentional Homicide</td>\n",
       "      <td>2016</td>\n",
       "      <td>61.0</td>\n",
       "    </tr>\n",
       "    <tr>\n",
       "      <th>4</th>\n",
       "      <td>Italy</td>\n",
       "      <td>Europe</td>\n",
       "      <td>Southern Europe</td>\n",
       "      <td>Intentional Homicide</td>\n",
       "      <td>2016</td>\n",
       "      <td>1443.0</td>\n",
       "    </tr>\n",
       "    <tr>\n",
       "      <th>...</th>\n",
       "      <td>...</td>\n",
       "      <td>...</td>\n",
       "      <td>...</td>\n",
       "      <td>...</td>\n",
       "      <td>...</td>\n",
       "      <td>...</td>\n",
       "    </tr>\n",
       "    <tr>\n",
       "      <th>44992</th>\n",
       "      <td>Zimbabwe</td>\n",
       "      <td>Africa</td>\n",
       "      <td>Sub-Saharan Africa</td>\n",
       "      <td>Total</td>\n",
       "      <td>2008</td>\n",
       "      <td>487.0</td>\n",
       "    </tr>\n",
       "    <tr>\n",
       "      <th>44993</th>\n",
       "      <td>Zimbabwe</td>\n",
       "      <td>Africa</td>\n",
       "      <td>Sub-Saharan Africa</td>\n",
       "      <td>Total</td>\n",
       "      <td>2017</td>\n",
       "      <td>475.0</td>\n",
       "    </tr>\n",
       "    <tr>\n",
       "      <th>44994</th>\n",
       "      <td>Zimbabwe</td>\n",
       "      <td>Africa</td>\n",
       "      <td>Sub-Saharan Africa</td>\n",
       "      <td>Total</td>\n",
       "      <td>2018</td>\n",
       "      <td>353.0</td>\n",
       "    </tr>\n",
       "    <tr>\n",
       "      <th>44995</th>\n",
       "      <td>Zimbabwe</td>\n",
       "      <td>Africa</td>\n",
       "      <td>Sub-Saharan Africa</td>\n",
       "      <td>Total</td>\n",
       "      <td>2019</td>\n",
       "      <td>450.0</td>\n",
       "    </tr>\n",
       "    <tr>\n",
       "      <th>44996</th>\n",
       "      <td>Zimbabwe</td>\n",
       "      <td>Africa</td>\n",
       "      <td>Sub-Saharan Africa</td>\n",
       "      <td>Total</td>\n",
       "      <td>2020</td>\n",
       "      <td>369.0</td>\n",
       "    </tr>\n",
       "  </tbody>\n",
       "</table>\n",
       "<p>44997 rows × 6 columns</p>\n",
       "</div>"
      ],
      "text/plain": [
       "                                 Country    Region  \\\n",
       "0                               Barbados  Americas   \n",
       "1                             Costa Rica  Americas   \n",
       "2                               Dominica  Americas   \n",
       "3      United Kingdom (Northern Ireland)    Europe   \n",
       "4                                  Italy    Europe   \n",
       "...                                  ...       ...   \n",
       "44992                           Zimbabwe    Africa   \n",
       "44993                           Zimbabwe    Africa   \n",
       "44994                           Zimbabwe    Africa   \n",
       "44995                           Zimbabwe    Africa   \n",
       "44996                           Zimbabwe    Africa   \n",
       "\n",
       "                             Subregion              Category  Year   Value  \n",
       "0      Latin America and the Caribbean  Intentional Homicide  2016     0.0  \n",
       "1      Latin America and the Caribbean  Intentional Homicide  2016   173.0  \n",
       "2      Latin America and the Caribbean  Intentional Homicide  2016    65.0  \n",
       "3                      Northern Europe  Intentional Homicide  2016    61.0  \n",
       "4                      Southern Europe  Intentional Homicide  2016  1443.0  \n",
       "...                                ...                   ...   ...     ...  \n",
       "44992               Sub-Saharan Africa                 Total  2008   487.0  \n",
       "44993               Sub-Saharan Africa                 Total  2017   475.0  \n",
       "44994               Sub-Saharan Africa                 Total  2018   353.0  \n",
       "44995               Sub-Saharan Africa                 Total  2019   450.0  \n",
       "44996               Sub-Saharan Africa                 Total  2020   369.0  \n",
       "\n",
       "[44997 rows x 6 columns]"
      ]
     },
     "execution_count": 277,
     "metadata": {},
     "output_type": "execute_result"
    }
   ],
   "source": [
    "drugsCrime = drugsCrime.drop(['Iso3_code', 'Indicator', 'Dimension', 'Sex', 'Age', 'Unit of measurement', 'Source'], axis=1)\n",
    "drugsCrime.rename(columns={'VALUE':'Value'}, inplace=True)\n",
    "drugsCrime.dropna()"
   ]
  },
  {
   "cell_type": "markdown",
   "metadata": {},
   "source": [
    "Notiamo che il numero di righe del dataset non è cambiata dopo aver effettuato la `dropna()`, il che vuol dire non vi sono presenti righe con valori nulli.\n",
    "\n",
    "Di seguito, invece, effettuiamo la conversione da `Object` a `String` delle feature che lo necessitano."
   ]
  },
  {
   "cell_type": "code",
   "execution_count": 278,
   "metadata": {},
   "outputs": [
    {
     "name": "stdout",
     "output_type": "stream",
     "text": [
      "<class 'pandas.core.frame.DataFrame'>\n",
      "Int64Index: 44997 entries, 0 to 44996\n",
      "Data columns (total 6 columns):\n",
      " #   Column     Non-Null Count  Dtype  \n",
      "---  ------     --------------  -----  \n",
      " 0   Country    44997 non-null  string \n",
      " 1   Region     44997 non-null  string \n",
      " 2   Subregion  44997 non-null  string \n",
      " 3   Category   44997 non-null  string \n",
      " 4   Year       44997 non-null  int64  \n",
      " 5   Value      44997 non-null  float64\n",
      "dtypes: float64(1), int64(1), string(4)\n",
      "memory usage: 2.4 MB\n"
     ]
    }
   ],
   "source": [
    "drugsCrime[\"Country\"] = drugsCrime[\"Country\"].astype(pd.StringDtype())\n",
    "drugsCrime[\"Region\"] = drugsCrime[\"Region\"].astype(pd.StringDtype())\n",
    "drugsCrime[\"Subregion\"] = drugsCrime[\"Subregion\"].astype(pd.StringDtype())\n",
    "drugsCrime[\"Category\"] = drugsCrime[\"Category\"].astype(pd.StringDtype())\n",
    "drugsCrime.info()"
   ]
  },
  {
   "cell_type": "markdown",
   "metadata": {},
   "source": [
    "Poichè stiamo analizzando i crimini legati al traffico e all'uso di droghe dobbiamo fare un'ulteriore scrematura del dataset in modo da considerare esclusivamente i crimini di nostro interesse. In particolare di seguito controllo quali categorie riguardano le droghe."
   ]
  },
  {
   "cell_type": "code",
   "execution_count": 279,
   "metadata": {},
   "outputs": [
    {
     "name": "stdout",
     "output_type": "stream",
     "text": [
      "<StringArray>\n",
      "['Drug Possession', 'Drug Trafficking', 'Drug possession', 'Drug trafficking']\n",
      "Length: 4, dtype: string\n"
     ]
    }
   ],
   "source": [
    "drug_categories = drugsCrime[drugsCrime['Category'].str.contains('Drug', case=False, na=False)]['Category'].unique()\n",
    "print(drug_categories)"
   ]
  },
  {
   "cell_type": "code",
   "execution_count": 280,
   "metadata": {},
   "outputs": [],
   "source": [
    "drugsCrime = drugsCrime[drugsCrime['Category'].isin(['Drug Trafficking', 'Drug trafficking'])]"
   ]
  },
  {
   "cell_type": "code",
   "execution_count": 281,
   "metadata": {},
   "outputs": [
    {
     "data": {
      "text/html": [
       "<div>\n",
       "<style scoped>\n",
       "    .dataframe tbody tr th:only-of-type {\n",
       "        vertical-align: middle;\n",
       "    }\n",
       "\n",
       "    .dataframe tbody tr th {\n",
       "        vertical-align: top;\n",
       "    }\n",
       "\n",
       "    .dataframe thead th {\n",
       "        text-align: right;\n",
       "    }\n",
       "</style>\n",
       "<table border=\"1\" class=\"dataframe\">\n",
       "  <thead>\n",
       "    <tr style=\"text-align: right;\">\n",
       "      <th></th>\n",
       "      <th>Country</th>\n",
       "      <th>Region</th>\n",
       "      <th>Subregion</th>\n",
       "      <th>Category</th>\n",
       "      <th>Year</th>\n",
       "      <th>Value</th>\n",
       "    </tr>\n",
       "  </thead>\n",
       "  <tbody>\n",
       "    <tr>\n",
       "      <th>596</th>\n",
       "      <td>Barbados</td>\n",
       "      <td>Americas</td>\n",
       "      <td>Latin America and the Caribbean</td>\n",
       "      <td>Drug Trafficking</td>\n",
       "      <td>2016</td>\n",
       "      <td>3.0</td>\n",
       "    </tr>\n",
       "    <tr>\n",
       "      <th>597</th>\n",
       "      <td>Costa Rica</td>\n",
       "      <td>Americas</td>\n",
       "      <td>Latin America and the Caribbean</td>\n",
       "      <td>Drug Trafficking</td>\n",
       "      <td>2016</td>\n",
       "      <td>203.0</td>\n",
       "    </tr>\n",
       "    <tr>\n",
       "      <th>598</th>\n",
       "      <td>Dominica</td>\n",
       "      <td>Americas</td>\n",
       "      <td>Latin America and the Caribbean</td>\n",
       "      <td>Drug Trafficking</td>\n",
       "      <td>2016</td>\n",
       "      <td>0.0</td>\n",
       "    </tr>\n",
       "    <tr>\n",
       "      <th>599</th>\n",
       "      <td>United Kingdom (Northern Ireland)</td>\n",
       "      <td>Europe</td>\n",
       "      <td>Northern Europe</td>\n",
       "      <td>Drug Trafficking</td>\n",
       "      <td>2016</td>\n",
       "      <td>3047.0</td>\n",
       "    </tr>\n",
       "    <tr>\n",
       "      <th>600</th>\n",
       "      <td>Honduras</td>\n",
       "      <td>Americas</td>\n",
       "      <td>Latin America and the Caribbean</td>\n",
       "      <td>Drug Trafficking</td>\n",
       "      <td>2016</td>\n",
       "      <td>87.0</td>\n",
       "    </tr>\n",
       "  </tbody>\n",
       "</table>\n",
       "</div>"
      ],
      "text/plain": [
       "                               Country    Region  \\\n",
       "596                           Barbados  Americas   \n",
       "597                         Costa Rica  Americas   \n",
       "598                           Dominica  Americas   \n",
       "599  United Kingdom (Northern Ireland)    Europe   \n",
       "600                           Honduras  Americas   \n",
       "\n",
       "                           Subregion          Category  Year   Value  \n",
       "596  Latin America and the Caribbean  Drug Trafficking  2016     3.0  \n",
       "597  Latin America and the Caribbean  Drug Trafficking  2016   203.0  \n",
       "598  Latin America and the Caribbean  Drug Trafficking  2016     0.0  \n",
       "599                  Northern Europe  Drug Trafficking  2016  3047.0  \n",
       "600  Latin America and the Caribbean  Drug Trafficking  2016    87.0  "
      ]
     },
     "execution_count": 281,
     "metadata": {},
     "output_type": "execute_result"
    }
   ],
   "source": [
    "drugsCrime.head()"
   ]
  },
  {
   "cell_type": "markdown",
   "metadata": {},
   "source": [
    "Avendo effetuato questo ulteriore controllo posso eliminare anche la colonna `Category`."
   ]
  },
  {
   "cell_type": "code",
   "execution_count": 282,
   "metadata": {},
   "outputs": [],
   "source": [
    "drugsCrime = drugsCrime.drop(['Category'], axis=1)"
   ]
  },
  {
   "cell_type": "code",
   "execution_count": 283,
   "metadata": {},
   "outputs": [
    {
     "data": {
      "text/plain": [
       "(682, 5)"
      ]
     },
     "execution_count": 283,
     "metadata": {},
     "output_type": "execute_result"
    }
   ],
   "source": [
    "drugsCrime.shape"
   ]
  },
  {
   "cell_type": "code",
   "execution_count": 284,
   "metadata": {},
   "outputs": [
    {
     "data": {
      "text/html": [
       "<div>\n",
       "<style scoped>\n",
       "    .dataframe tbody tr th:only-of-type {\n",
       "        vertical-align: middle;\n",
       "    }\n",
       "\n",
       "    .dataframe tbody tr th {\n",
       "        vertical-align: top;\n",
       "    }\n",
       "\n",
       "    .dataframe thead th {\n",
       "        text-align: right;\n",
       "    }\n",
       "</style>\n",
       "<table border=\"1\" class=\"dataframe\">\n",
       "  <thead>\n",
       "    <tr style=\"text-align: right;\">\n",
       "      <th></th>\n",
       "      <th>Year</th>\n",
       "      <th>Value</th>\n",
       "    </tr>\n",
       "  </thead>\n",
       "  <tbody>\n",
       "    <tr>\n",
       "      <th>count</th>\n",
       "      <td>682.000000</td>\n",
       "      <td>682.000000</td>\n",
       "    </tr>\n",
       "    <tr>\n",
       "      <th>mean</th>\n",
       "      <td>2017.567449</td>\n",
       "      <td>8160.313783</td>\n",
       "    </tr>\n",
       "    <tr>\n",
       "      <th>std</th>\n",
       "      <td>3.335696</td>\n",
       "      <td>27153.150717</td>\n",
       "    </tr>\n",
       "    <tr>\n",
       "      <th>min</th>\n",
       "      <td>2010.000000</td>\n",
       "      <td>0.000000</td>\n",
       "    </tr>\n",
       "    <tr>\n",
       "      <th>25%</th>\n",
       "      <td>2015.000000</td>\n",
       "      <td>80.000000</td>\n",
       "    </tr>\n",
       "    <tr>\n",
       "      <th>50%</th>\n",
       "      <td>2018.000000</td>\n",
       "      <td>687.000000</td>\n",
       "    </tr>\n",
       "    <tr>\n",
       "      <th>75%</th>\n",
       "      <td>2020.000000</td>\n",
       "      <td>3066.500000</td>\n",
       "    </tr>\n",
       "    <tr>\n",
       "      <th>max</th>\n",
       "      <td>2022.000000</td>\n",
       "      <td>240113.000000</td>\n",
       "    </tr>\n",
       "  </tbody>\n",
       "</table>\n",
       "</div>"
      ],
      "text/plain": [
       "              Year          Value\n",
       "count   682.000000     682.000000\n",
       "mean   2017.567449    8160.313783\n",
       "std       3.335696   27153.150717\n",
       "min    2010.000000       0.000000\n",
       "25%    2015.000000      80.000000\n",
       "50%    2018.000000     687.000000\n",
       "75%    2020.000000    3066.500000\n",
       "max    2022.000000  240113.000000"
      ]
     },
     "execution_count": 284,
     "metadata": {},
     "output_type": "execute_result"
    }
   ],
   "source": [
    "drugsCrime.describe()"
   ]
  },
  {
   "cell_type": "code",
   "execution_count": 285,
   "metadata": {},
   "outputs": [
    {
     "name": "stdout",
     "output_type": "stream",
     "text": [
      "Numero totale di paesi: 226\n"
     ]
    }
   ],
   "source": [
    "print(f\"Numero totale di paesi: {homicideCrime['Country'].unique().size}\")"
   ]
  },
  {
   "cell_type": "markdown",
   "metadata": {},
   "source": [
    "## Violenza sessuale e rapimenti"
   ]
  },
  {
   "cell_type": "code",
   "execution_count": 257,
   "metadata": {},
   "outputs": [],
   "source": [
    "import os.path\n",
    "file = \"data_cts_violent_and_sexual_crime.csv\"\n",
    "if not os.path.exists(file):\n",
    "    print(\"Missing dataset\")\n",
    "else:\n",
    "  violent_sexualCrime = pd.read_csv(file, index_col=False, encoding='latin1')"
   ]
  },
  {
   "cell_type": "code",
   "execution_count": 258,
   "metadata": {},
   "outputs": [
    {
     "name": "stdout",
     "output_type": "stream",
     "text": [
      "<class 'pandas.core.frame.DataFrame'>\n",
      "RangeIndex: 26114 entries, 0 to 26113\n",
      "Data columns (total 13 columns):\n",
      " #   Column               Non-Null Count  Dtype  \n",
      "---  ------               --------------  -----  \n",
      " 0   Iso3_code            26114 non-null  object \n",
      " 1   Country              26114 non-null  object \n",
      " 2   Region               26114 non-null  object \n",
      " 3   Subregion            26114 non-null  object \n",
      " 4   Indicator            26114 non-null  object \n",
      " 5   Dimension            26114 non-null  object \n",
      " 6   Category             26114 non-null  object \n",
      " 7   Sex                  26114 non-null  object \n",
      " 8   Age                  26114 non-null  object \n",
      " 9   Year                 26114 non-null  int64  \n",
      " 10  Unit of measurement  26114 non-null  object \n",
      " 11  VALUE                26114 non-null  float64\n",
      " 12  Source               26114 non-null  object \n",
      "dtypes: float64(1), int64(1), object(11)\n",
      "memory usage: 19.3 MB\n"
     ]
    }
   ],
   "source": [
    "violent_sexualCrime.info(memory_usage='deep')"
   ]
  },
  {
   "cell_type": "code",
   "execution_count": 259,
   "metadata": {},
   "outputs": [
    {
     "data": {
      "text/plain": [
       "(26114, 13)"
      ]
     },
     "execution_count": 259,
     "metadata": {},
     "output_type": "execute_result"
    }
   ],
   "source": [
    "violent_sexualCrime.shape"
   ]
  },
  {
   "cell_type": "code",
   "execution_count": 260,
   "metadata": {},
   "outputs": [
    {
     "data": {
      "text/html": [
       "<div>\n",
       "<style scoped>\n",
       "    .dataframe tbody tr th:only-of-type {\n",
       "        vertical-align: middle;\n",
       "    }\n",
       "\n",
       "    .dataframe tbody tr th {\n",
       "        vertical-align: top;\n",
       "    }\n",
       "\n",
       "    .dataframe thead th {\n",
       "        text-align: right;\n",
       "    }\n",
       "</style>\n",
       "<table border=\"1\" class=\"dataframe\">\n",
       "  <thead>\n",
       "    <tr style=\"text-align: right;\">\n",
       "      <th></th>\n",
       "      <th>Iso3_code</th>\n",
       "      <th>Country</th>\n",
       "      <th>Region</th>\n",
       "      <th>Subregion</th>\n",
       "      <th>Indicator</th>\n",
       "      <th>Dimension</th>\n",
       "      <th>Category</th>\n",
       "      <th>Sex</th>\n",
       "      <th>Age</th>\n",
       "      <th>Year</th>\n",
       "      <th>Unit of measurement</th>\n",
       "      <th>VALUE</th>\n",
       "      <th>Source</th>\n",
       "    </tr>\n",
       "  </thead>\n",
       "  <tbody>\n",
       "    <tr>\n",
       "      <th>0</th>\n",
       "      <td>AZE</td>\n",
       "      <td>Azerbaijan</td>\n",
       "      <td>Asia</td>\n",
       "      <td>Western Asia</td>\n",
       "      <td>Violent offences</td>\n",
       "      <td>by type of offence</td>\n",
       "      <td>Serious assault</td>\n",
       "      <td>Total</td>\n",
       "      <td>Total</td>\n",
       "      <td>2003</td>\n",
       "      <td>Counts</td>\n",
       "      <td>155.0</td>\n",
       "      <td>CTS</td>\n",
       "    </tr>\n",
       "    <tr>\n",
       "      <th>1</th>\n",
       "      <td>BEL</td>\n",
       "      <td>Belgium</td>\n",
       "      <td>Europe</td>\n",
       "      <td>Western Europe</td>\n",
       "      <td>Violent offences</td>\n",
       "      <td>by type of offence</td>\n",
       "      <td>Serious assault</td>\n",
       "      <td>Total</td>\n",
       "      <td>Total</td>\n",
       "      <td>2003</td>\n",
       "      <td>Counts</td>\n",
       "      <td>61959.0</td>\n",
       "      <td>CTS</td>\n",
       "    </tr>\n",
       "    <tr>\n",
       "      <th>2</th>\n",
       "      <td>BGR</td>\n",
       "      <td>Bulgaria</td>\n",
       "      <td>Europe</td>\n",
       "      <td>Eastern Europe</td>\n",
       "      <td>Violent offences</td>\n",
       "      <td>by type of offence</td>\n",
       "      <td>Serious assault</td>\n",
       "      <td>Total</td>\n",
       "      <td>Total</td>\n",
       "      <td>2003</td>\n",
       "      <td>Counts</td>\n",
       "      <td>3806.0</td>\n",
       "      <td>CTS</td>\n",
       "    </tr>\n",
       "    <tr>\n",
       "      <th>3</th>\n",
       "      <td>BHR</td>\n",
       "      <td>Bahrain</td>\n",
       "      <td>Asia</td>\n",
       "      <td>Western Asia</td>\n",
       "      <td>Violent offences</td>\n",
       "      <td>by type of offence</td>\n",
       "      <td>Serious assault</td>\n",
       "      <td>Total</td>\n",
       "      <td>Total</td>\n",
       "      <td>2003</td>\n",
       "      <td>Counts</td>\n",
       "      <td>2701.0</td>\n",
       "      <td>CTS</td>\n",
       "    </tr>\n",
       "    <tr>\n",
       "      <th>4</th>\n",
       "      <td>BLR</td>\n",
       "      <td>Belarus</td>\n",
       "      <td>Europe</td>\n",
       "      <td>Eastern Europe</td>\n",
       "      <td>Violent offences</td>\n",
       "      <td>by type of offence</td>\n",
       "      <td>Serious assault</td>\n",
       "      <td>Total</td>\n",
       "      <td>Total</td>\n",
       "      <td>2003</td>\n",
       "      <td>Counts</td>\n",
       "      <td>4032.0</td>\n",
       "      <td>CTS</td>\n",
       "    </tr>\n",
       "  </tbody>\n",
       "</table>\n",
       "</div>"
      ],
      "text/plain": [
       "  Iso3_code     Country  Region       Subregion         Indicator  \\\n",
       "0       AZE  Azerbaijan    Asia    Western Asia  Violent offences   \n",
       "1       BEL     Belgium  Europe  Western Europe  Violent offences   \n",
       "2       BGR    Bulgaria  Europe  Eastern Europe  Violent offences   \n",
       "3       BHR     Bahrain    Asia    Western Asia  Violent offences   \n",
       "4       BLR     Belarus  Europe  Eastern Europe  Violent offences   \n",
       "\n",
       "            Dimension         Category    Sex    Age  Year  \\\n",
       "0  by type of offence  Serious assault  Total  Total  2003   \n",
       "1  by type of offence  Serious assault  Total  Total  2003   \n",
       "2  by type of offence  Serious assault  Total  Total  2003   \n",
       "3  by type of offence  Serious assault  Total  Total  2003   \n",
       "4  by type of offence  Serious assault  Total  Total  2003   \n",
       "\n",
       "  Unit of measurement    VALUE Source  \n",
       "0              Counts    155.0    CTS  \n",
       "1              Counts  61959.0    CTS  \n",
       "2              Counts   3806.0    CTS  \n",
       "3              Counts   2701.0    CTS  \n",
       "4              Counts   4032.0    CTS  "
      ]
     },
     "execution_count": 260,
     "metadata": {},
     "output_type": "execute_result"
    }
   ],
   "source": [
    "violent_sexualCrime.head()"
   ]
  },
  {
   "cell_type": "markdown",
   "metadata": {},
   "source": [
    "Filtrimo il dataframe, manteniamo solo i dati che presentano come `Unit of measurement` `Counts` inevce che `Rate per 100,000 population`."
   ]
  },
  {
   "cell_type": "code",
   "execution_count": 261,
   "metadata": {},
   "outputs": [
    {
     "data": {
      "text/plain": [
       "(13073, 13)"
      ]
     },
     "execution_count": 261,
     "metadata": {},
     "output_type": "execute_result"
    }
   ],
   "source": [
    "violent_sexualCrime = violent_sexualCrime[violent_sexualCrime['Unit of measurement'] != \"Rate per 100,000 population\"]\n",
    "violent_sexualCrime.shape"
   ]
  },
  {
   "cell_type": "markdown",
   "metadata": {},
   "source": [
    "Le feature `Iso3_code`, `Indicator`, `Dimension`, `Sex`, `Age`, `Unit of measurement` e `Source` sono inutili per il nostro modello, perciò le rimuoviamo. \n",
    "Inoltre rimuoviamo le eventuali righe contenenti valori null."
   ]
  },
  {
   "cell_type": "code",
   "execution_count": 262,
   "metadata": {},
   "outputs": [
    {
     "data": {
      "text/html": [
       "<div>\n",
       "<style scoped>\n",
       "    .dataframe tbody tr th:only-of-type {\n",
       "        vertical-align: middle;\n",
       "    }\n",
       "\n",
       "    .dataframe tbody tr th {\n",
       "        vertical-align: top;\n",
       "    }\n",
       "\n",
       "    .dataframe thead th {\n",
       "        text-align: right;\n",
       "    }\n",
       "</style>\n",
       "<table border=\"1\" class=\"dataframe\">\n",
       "  <thead>\n",
       "    <tr style=\"text-align: right;\">\n",
       "      <th></th>\n",
       "      <th>Country</th>\n",
       "      <th>Region</th>\n",
       "      <th>Subregion</th>\n",
       "      <th>Category</th>\n",
       "      <th>Year</th>\n",
       "      <th>VALUE</th>\n",
       "    </tr>\n",
       "  </thead>\n",
       "  <tbody>\n",
       "    <tr>\n",
       "      <th>0</th>\n",
       "      <td>Azerbaijan</td>\n",
       "      <td>Asia</td>\n",
       "      <td>Western Asia</td>\n",
       "      <td>Serious assault</td>\n",
       "      <td>2003</td>\n",
       "      <td>155.0</td>\n",
       "    </tr>\n",
       "    <tr>\n",
       "      <th>1</th>\n",
       "      <td>Belgium</td>\n",
       "      <td>Europe</td>\n",
       "      <td>Western Europe</td>\n",
       "      <td>Serious assault</td>\n",
       "      <td>2003</td>\n",
       "      <td>61959.0</td>\n",
       "    </tr>\n",
       "    <tr>\n",
       "      <th>2</th>\n",
       "      <td>Bulgaria</td>\n",
       "      <td>Europe</td>\n",
       "      <td>Eastern Europe</td>\n",
       "      <td>Serious assault</td>\n",
       "      <td>2003</td>\n",
       "      <td>3806.0</td>\n",
       "    </tr>\n",
       "    <tr>\n",
       "      <th>3</th>\n",
       "      <td>Bahrain</td>\n",
       "      <td>Asia</td>\n",
       "      <td>Western Asia</td>\n",
       "      <td>Serious assault</td>\n",
       "      <td>2003</td>\n",
       "      <td>2701.0</td>\n",
       "    </tr>\n",
       "    <tr>\n",
       "      <th>4</th>\n",
       "      <td>Belarus</td>\n",
       "      <td>Europe</td>\n",
       "      <td>Eastern Europe</td>\n",
       "      <td>Serious assault</td>\n",
       "      <td>2003</td>\n",
       "      <td>4032.0</td>\n",
       "    </tr>\n",
       "    <tr>\n",
       "      <th>...</th>\n",
       "      <td>...</td>\n",
       "      <td>...</td>\n",
       "      <td>...</td>\n",
       "      <td>...</td>\n",
       "      <td>...</td>\n",
       "      <td>...</td>\n",
       "    </tr>\n",
       "    <tr>\n",
       "      <th>13068</th>\n",
       "      <td>Montenegro</td>\n",
       "      <td>Europe</td>\n",
       "      <td>Southern Europe</td>\n",
       "      <td>Acts intended to induce fear or emotional dist...</td>\n",
       "      <td>2021</td>\n",
       "      <td>10.0</td>\n",
       "    </tr>\n",
       "    <tr>\n",
       "      <th>13069</th>\n",
       "      <td>Mauritius</td>\n",
       "      <td>Africa</td>\n",
       "      <td>Sub-Saharan Africa</td>\n",
       "      <td>Acts intended to induce fear or emotional dist...</td>\n",
       "      <td>2021</td>\n",
       "      <td>342.0</td>\n",
       "    </tr>\n",
       "    <tr>\n",
       "      <th>13070</th>\n",
       "      <td>El Salvador</td>\n",
       "      <td>Americas</td>\n",
       "      <td>Latin America and the Caribbean</td>\n",
       "      <td>Acts intended to induce fear or emotional dist...</td>\n",
       "      <td>2021</td>\n",
       "      <td>4.0</td>\n",
       "    </tr>\n",
       "    <tr>\n",
       "      <th>13071</th>\n",
       "      <td>Serbia</td>\n",
       "      <td>Europe</td>\n",
       "      <td>Southern Europe</td>\n",
       "      <td>Acts intended to induce fear or emotional dist...</td>\n",
       "      <td>2021</td>\n",
       "      <td>1.0</td>\n",
       "    </tr>\n",
       "    <tr>\n",
       "      <th>13072</th>\n",
       "      <td>Eswatini</td>\n",
       "      <td>Africa</td>\n",
       "      <td>Sub-Saharan Africa</td>\n",
       "      <td>Acts intended to induce fear or emotional dist...</td>\n",
       "      <td>2021</td>\n",
       "      <td>0.0</td>\n",
       "    </tr>\n",
       "  </tbody>\n",
       "</table>\n",
       "<p>13073 rows × 6 columns</p>\n",
       "</div>"
      ],
      "text/plain": [
       "           Country    Region                        Subregion  \\\n",
       "0       Azerbaijan      Asia                     Western Asia   \n",
       "1          Belgium    Europe                   Western Europe   \n",
       "2         Bulgaria    Europe                   Eastern Europe   \n",
       "3          Bahrain      Asia                     Western Asia   \n",
       "4          Belarus    Europe                   Eastern Europe   \n",
       "...            ...       ...                              ...   \n",
       "13068   Montenegro    Europe                  Southern Europe   \n",
       "13069    Mauritius    Africa               Sub-Saharan Africa   \n",
       "13070  El Salvador  Americas  Latin America and the Caribbean   \n",
       "13071       Serbia    Europe                  Southern Europe   \n",
       "13072     Eswatini    Africa               Sub-Saharan Africa   \n",
       "\n",
       "                                                Category  Year    VALUE  \n",
       "0                                        Serious assault  2003    155.0  \n",
       "1                                        Serious assault  2003  61959.0  \n",
       "2                                        Serious assault  2003   3806.0  \n",
       "3                                        Serious assault  2003   2701.0  \n",
       "4                                        Serious assault  2003   4032.0  \n",
       "...                                                  ...   ...      ...  \n",
       "13068  Acts intended to induce fear or emotional dist...  2021     10.0  \n",
       "13069  Acts intended to induce fear or emotional dist...  2021    342.0  \n",
       "13070  Acts intended to induce fear or emotional dist...  2021      4.0  \n",
       "13071  Acts intended to induce fear or emotional dist...  2021      1.0  \n",
       "13072  Acts intended to induce fear or emotional dist...  2021      0.0  \n",
       "\n",
       "[13073 rows x 6 columns]"
      ]
     },
     "execution_count": 262,
     "metadata": {},
     "output_type": "execute_result"
    }
   ],
   "source": [
    "violent_sexualCrime = violent_sexualCrime.drop(['Iso3_code', 'Indicator', 'Dimension', 'Sex', 'Age', 'Unit of measurement', 'Source'], axis=1)\n",
    "violent_sexualCrime.dropna()"
   ]
  },
  {
   "cell_type": "markdown",
   "metadata": {},
   "source": [
    "Notiamo che il numero di righe del dataset non è cambiata dopo aver effettuato la dropna(), il che vuol dire non vi sono presenti righe con valori nulli.\n",
    "\n",
    "Di seguito, invece, effettuiamo la conversione da Object a String delle feature che lo necessitano."
   ]
  },
  {
   "cell_type": "code",
   "execution_count": 263,
   "metadata": {},
   "outputs": [
    {
     "name": "stdout",
     "output_type": "stream",
     "text": [
      "<class 'pandas.core.frame.DataFrame'>\n",
      "Int64Index: 13073 entries, 0 to 13072\n",
      "Data columns (total 6 columns):\n",
      " #   Column     Non-Null Count  Dtype  \n",
      "---  ------     --------------  -----  \n",
      " 0   Country    13073 non-null  string \n",
      " 1   Region     13073 non-null  string \n",
      " 2   Subregion  13073 non-null  string \n",
      " 3   Category   13073 non-null  string \n",
      " 4   Year       13073 non-null  int64  \n",
      " 5   VALUE      13073 non-null  float64\n",
      "dtypes: float64(1), int64(1), string(4)\n",
      "memory usage: 714.9 KB\n"
     ]
    }
   ],
   "source": [
    "violent_sexualCrime[\"Country\"] = violent_sexualCrime[\"Country\"].astype(pd.StringDtype())\n",
    "violent_sexualCrime[\"Region\"] = violent_sexualCrime[\"Region\"].astype(pd.StringDtype())\n",
    "violent_sexualCrime[\"Subregion\"] = violent_sexualCrime[\"Subregion\"].astype(pd.StringDtype())\n",
    "violent_sexualCrime[\"Category\"] = violent_sexualCrime[\"Category\"].astype(pd.StringDtype())\n",
    "violent_sexualCrime.info()"
   ]
  },
  {
   "cell_type": "markdown",
   "metadata": {},
   "source": [
    "Poichè dobbiamo analizzare i crimini di violenza sessuale ed i rapimenti andiamo a creare due copie del dataframe in modo da poter analizzare separatamente i due casi.\n",
    "\n",
    "Inoltre rinominiamo la feature `VALUE` in `sexual_violence_count` e `kidnapping_count` a seconda del fenomeno analizzato."
   ]
  },
  {
   "cell_type": "code",
   "execution_count": 264,
   "metadata": {},
   "outputs": [
    {
     "data": {
      "text/html": [
       "<div>\n",
       "<style scoped>\n",
       "    .dataframe tbody tr th:only-of-type {\n",
       "        vertical-align: middle;\n",
       "    }\n",
       "\n",
       "    .dataframe tbody tr th {\n",
       "        vertical-align: top;\n",
       "    }\n",
       "\n",
       "    .dataframe thead th {\n",
       "        text-align: right;\n",
       "    }\n",
       "</style>\n",
       "<table border=\"1\" class=\"dataframe\">\n",
       "  <thead>\n",
       "    <tr style=\"text-align: right;\">\n",
       "      <th></th>\n",
       "      <th>Country</th>\n",
       "      <th>Region</th>\n",
       "      <th>Subregion</th>\n",
       "      <th>Category</th>\n",
       "      <th>Year</th>\n",
       "      <th>VALUE</th>\n",
       "    </tr>\n",
       "  </thead>\n",
       "  <tbody>\n",
       "    <tr>\n",
       "      <th>3796</th>\n",
       "      <td>Belgium</td>\n",
       "      <td>Europe</td>\n",
       "      <td>Western Europe</td>\n",
       "      <td>Sexual violence</td>\n",
       "      <td>2003</td>\n",
       "      <td>5565.0</td>\n",
       "    </tr>\n",
       "    <tr>\n",
       "      <th>3797</th>\n",
       "      <td>Bulgaria</td>\n",
       "      <td>Europe</td>\n",
       "      <td>Eastern Europe</td>\n",
       "      <td>Sexual violence</td>\n",
       "      <td>2003</td>\n",
       "      <td>1287.0</td>\n",
       "    </tr>\n",
       "    <tr>\n",
       "      <th>3798</th>\n",
       "      <td>Canada</td>\n",
       "      <td>Americas</td>\n",
       "      <td>Northern America</td>\n",
       "      <td>Sexual violence</td>\n",
       "      <td>2003</td>\n",
       "      <td>26128.0</td>\n",
       "    </tr>\n",
       "    <tr>\n",
       "      <th>3799</th>\n",
       "      <td>Czechia</td>\n",
       "      <td>Europe</td>\n",
       "      <td>Eastern Europe</td>\n",
       "      <td>Sexual violence</td>\n",
       "      <td>2003</td>\n",
       "      <td>1898.0</td>\n",
       "    </tr>\n",
       "    <tr>\n",
       "      <th>3800</th>\n",
       "      <td>Germany</td>\n",
       "      <td>Europe</td>\n",
       "      <td>Western Europe</td>\n",
       "      <td>Sexual violence</td>\n",
       "      <td>2003</td>\n",
       "      <td>54632.0</td>\n",
       "    </tr>\n",
       "  </tbody>\n",
       "</table>\n",
       "</div>"
      ],
      "text/plain": [
       "       Country    Region         Subregion         Category  Year    VALUE\n",
       "3796   Belgium    Europe    Western Europe  Sexual violence  2003   5565.0\n",
       "3797  Bulgaria    Europe    Eastern Europe  Sexual violence  2003   1287.0\n",
       "3798    Canada  Americas  Northern America  Sexual violence  2003  26128.0\n",
       "3799   Czechia    Europe    Eastern Europe  Sexual violence  2003   1898.0\n",
       "3800   Germany    Europe    Western Europe  Sexual violence  2003  54632.0"
      ]
     },
     "execution_count": 264,
     "metadata": {},
     "output_type": "execute_result"
    }
   ],
   "source": [
    "sexual_violence = violent_sexualCrime.copy()\n",
    "sexual_violence = sexual_violence[sexual_violence['Category'].isin(['Sexual violence'])]\n",
    "sexual_violence.head()"
   ]
  },
  {
   "cell_type": "code",
   "execution_count": 265,
   "metadata": {},
   "outputs": [
    {
     "data": {
      "text/html": [
       "<div>\n",
       "<style scoped>\n",
       "    .dataframe tbody tr th:only-of-type {\n",
       "        vertical-align: middle;\n",
       "    }\n",
       "\n",
       "    .dataframe tbody tr th {\n",
       "        vertical-align: top;\n",
       "    }\n",
       "\n",
       "    .dataframe thead th {\n",
       "        text-align: right;\n",
       "    }\n",
       "</style>\n",
       "<table border=\"1\" class=\"dataframe\">\n",
       "  <thead>\n",
       "    <tr style=\"text-align: right;\">\n",
       "      <th></th>\n",
       "      <th>Country</th>\n",
       "      <th>Region</th>\n",
       "      <th>Subregion</th>\n",
       "      <th>Category</th>\n",
       "      <th>Year</th>\n",
       "      <th>VALUE</th>\n",
       "    </tr>\n",
       "  </thead>\n",
       "  <tbody>\n",
       "    <tr>\n",
       "      <th>1977</th>\n",
       "      <td>United Arab Emirates</td>\n",
       "      <td>Asia</td>\n",
       "      <td>Western Asia</td>\n",
       "      <td>Kidnapping</td>\n",
       "      <td>2003</td>\n",
       "      <td>434.0</td>\n",
       "    </tr>\n",
       "    <tr>\n",
       "      <th>1978</th>\n",
       "      <td>Azerbaijan</td>\n",
       "      <td>Asia</td>\n",
       "      <td>Western Asia</td>\n",
       "      <td>Kidnapping</td>\n",
       "      <td>2003</td>\n",
       "      <td>28.0</td>\n",
       "    </tr>\n",
       "    <tr>\n",
       "      <th>1979</th>\n",
       "      <td>Belgium</td>\n",
       "      <td>Europe</td>\n",
       "      <td>Western Europe</td>\n",
       "      <td>Kidnapping</td>\n",
       "      <td>2003</td>\n",
       "      <td>1003.0</td>\n",
       "    </tr>\n",
       "    <tr>\n",
       "      <th>1980</th>\n",
       "      <td>Bulgaria</td>\n",
       "      <td>Europe</td>\n",
       "      <td>Eastern Europe</td>\n",
       "      <td>Kidnapping</td>\n",
       "      <td>2003</td>\n",
       "      <td>209.0</td>\n",
       "    </tr>\n",
       "    <tr>\n",
       "      <th>1981</th>\n",
       "      <td>Bahrain</td>\n",
       "      <td>Asia</td>\n",
       "      <td>Western Asia</td>\n",
       "      <td>Kidnapping</td>\n",
       "      <td>2003</td>\n",
       "      <td>5.0</td>\n",
       "    </tr>\n",
       "  </tbody>\n",
       "</table>\n",
       "</div>"
      ],
      "text/plain": [
       "                   Country  Region       Subregion    Category  Year   VALUE\n",
       "1977  United Arab Emirates    Asia    Western Asia  Kidnapping  2003   434.0\n",
       "1978            Azerbaijan    Asia    Western Asia  Kidnapping  2003    28.0\n",
       "1979               Belgium  Europe  Western Europe  Kidnapping  2003  1003.0\n",
       "1980              Bulgaria  Europe  Eastern Europe  Kidnapping  2003   209.0\n",
       "1981               Bahrain    Asia    Western Asia  Kidnapping  2003     5.0"
      ]
     },
     "execution_count": 265,
     "metadata": {},
     "output_type": "execute_result"
    }
   ],
   "source": [
    "kidnapping = violent_sexualCrime.copy()\n",
    "kidnapping = kidnapping[kidnapping['Category'].isin(['Kidnapping'])]\n",
    "kidnapping.head()"
   ]
  },
  {
   "cell_type": "markdown",
   "metadata": {},
   "source": [
    "Avendo effetuato questa ulteriore scrematura posso eliminare anche la colonna `Category`."
   ]
  },
  {
   "cell_type": "code",
   "execution_count": 266,
   "metadata": {},
   "outputs": [
    {
     "data": {
      "text/plain": [
       "(1768, 5)"
      ]
     },
     "execution_count": 266,
     "metadata": {},
     "output_type": "execute_result"
    }
   ],
   "source": [
    "sexual_violence = sexual_violence.drop(['Category'], axis=1)\n",
    "sexual_violence.rename(columns={'VALUE':'sexual_violence_count'}, inplace=True)\n",
    "sexual_violence.shape"
   ]
  },
  {
   "cell_type": "code",
   "execution_count": 267,
   "metadata": {},
   "outputs": [
    {
     "data": {
      "text/html": [
       "<div>\n",
       "<style scoped>\n",
       "    .dataframe tbody tr th:only-of-type {\n",
       "        vertical-align: middle;\n",
       "    }\n",
       "\n",
       "    .dataframe tbody tr th {\n",
       "        vertical-align: top;\n",
       "    }\n",
       "\n",
       "    .dataframe thead th {\n",
       "        text-align: right;\n",
       "    }\n",
       "</style>\n",
       "<table border=\"1\" class=\"dataframe\">\n",
       "  <thead>\n",
       "    <tr style=\"text-align: right;\">\n",
       "      <th></th>\n",
       "      <th>Year</th>\n",
       "      <th>sexual_violence_count</th>\n",
       "    </tr>\n",
       "  </thead>\n",
       "  <tbody>\n",
       "    <tr>\n",
       "      <th>count</th>\n",
       "      <td>1768.000000</td>\n",
       "      <td>1768.000000</td>\n",
       "    </tr>\n",
       "    <tr>\n",
       "      <th>mean</th>\n",
       "      <td>2013.143100</td>\n",
       "      <td>6434.749434</td>\n",
       "    </tr>\n",
       "    <tr>\n",
       "      <th>std</th>\n",
       "      <td>5.244384</td>\n",
       "      <td>15363.198967</td>\n",
       "    </tr>\n",
       "    <tr>\n",
       "      <th>min</th>\n",
       "      <td>2003.000000</td>\n",
       "      <td>0.000000</td>\n",
       "    </tr>\n",
       "    <tr>\n",
       "      <th>25%</th>\n",
       "      <td>2009.000000</td>\n",
       "      <td>238.000000</td>\n",
       "    </tr>\n",
       "    <tr>\n",
       "      <th>50%</th>\n",
       "      <td>2013.000000</td>\n",
       "      <td>1362.500000</td>\n",
       "    </tr>\n",
       "    <tr>\n",
       "      <th>75%</th>\n",
       "      <td>2018.000000</td>\n",
       "      <td>5163.250000</td>\n",
       "    </tr>\n",
       "    <tr>\n",
       "      <th>max</th>\n",
       "      <td>2022.000000</td>\n",
       "      <td>193566.000000</td>\n",
       "    </tr>\n",
       "  </tbody>\n",
       "</table>\n",
       "</div>"
      ],
      "text/plain": [
       "              Year  sexual_violence_count\n",
       "count  1768.000000            1768.000000\n",
       "mean   2013.143100            6434.749434\n",
       "std       5.244384           15363.198967\n",
       "min    2003.000000               0.000000\n",
       "25%    2009.000000             238.000000\n",
       "50%    2013.000000            1362.500000\n",
       "75%    2018.000000            5163.250000\n",
       "max    2022.000000          193566.000000"
      ]
     },
     "execution_count": 267,
     "metadata": {},
     "output_type": "execute_result"
    }
   ],
   "source": [
    "sexual_violence.describe()"
   ]
  },
  {
   "cell_type": "code",
   "execution_count": 268,
   "metadata": {},
   "outputs": [
    {
     "data": {
      "text/plain": [
       "(1819, 5)"
      ]
     },
     "execution_count": 268,
     "metadata": {},
     "output_type": "execute_result"
    }
   ],
   "source": [
    "kidnapping = kidnapping.drop(['Category'], axis=1)\n",
    "kidnapping.rename(columns={'VALUE':'kidnapping_count'}, inplace=True)\n",
    "kidnapping.shape"
   ]
  },
  {
   "cell_type": "code",
   "execution_count": 269,
   "metadata": {},
   "outputs": [
    {
     "data": {
      "text/html": [
       "<div>\n",
       "<style scoped>\n",
       "    .dataframe tbody tr th:only-of-type {\n",
       "        vertical-align: middle;\n",
       "    }\n",
       "\n",
       "    .dataframe tbody tr th {\n",
       "        vertical-align: top;\n",
       "    }\n",
       "\n",
       "    .dataframe thead th {\n",
       "        text-align: right;\n",
       "    }\n",
       "</style>\n",
       "<table border=\"1\" class=\"dataframe\">\n",
       "  <thead>\n",
       "    <tr style=\"text-align: right;\">\n",
       "      <th></th>\n",
       "      <th>Year</th>\n",
       "      <th>kidnapping_count</th>\n",
       "    </tr>\n",
       "  </thead>\n",
       "  <tbody>\n",
       "    <tr>\n",
       "      <th>count</th>\n",
       "      <td>1819.000000</td>\n",
       "      <td>1819.000000</td>\n",
       "    </tr>\n",
       "    <tr>\n",
       "      <th>mean</th>\n",
       "      <td>2012.722375</td>\n",
       "      <td>792.048679</td>\n",
       "    </tr>\n",
       "    <tr>\n",
       "      <th>std</th>\n",
       "      <td>5.438161</td>\n",
       "      <td>4022.973880</td>\n",
       "    </tr>\n",
       "    <tr>\n",
       "      <th>min</th>\n",
       "      <td>2003.000000</td>\n",
       "      <td>0.000000</td>\n",
       "    </tr>\n",
       "    <tr>\n",
       "      <th>25%</th>\n",
       "      <td>2008.000000</td>\n",
       "      <td>5.000000</td>\n",
       "    </tr>\n",
       "    <tr>\n",
       "      <th>50%</th>\n",
       "      <td>2013.000000</td>\n",
       "      <td>34.000000</td>\n",
       "    </tr>\n",
       "    <tr>\n",
       "      <th>75%</th>\n",
       "      <td>2017.000000</td>\n",
       "      <td>265.000000</td>\n",
       "    </tr>\n",
       "    <tr>\n",
       "      <th>max</th>\n",
       "      <td>2022.000000</td>\n",
       "      <td>65461.000000</td>\n",
       "    </tr>\n",
       "  </tbody>\n",
       "</table>\n",
       "</div>"
      ],
      "text/plain": [
       "              Year  kidnapping_count\n",
       "count  1819.000000       1819.000000\n",
       "mean   2012.722375        792.048679\n",
       "std       5.438161       4022.973880\n",
       "min    2003.000000          0.000000\n",
       "25%    2008.000000          5.000000\n",
       "50%    2013.000000         34.000000\n",
       "75%    2017.000000        265.000000\n",
       "max    2022.000000      65461.000000"
      ]
     },
     "execution_count": 269,
     "metadata": {},
     "output_type": "execute_result"
    }
   ],
   "source": [
    "kidnapping.describe()"
   ]
  },
  {
   "cell_type": "markdown",
   "metadata": {},
   "source": [
    "Notiamo che il dataset, per ogni `Country`, contiene dati dal 2003 al 2022."
   ]
  },
  {
   "cell_type": "code",
   "execution_count": 271,
   "metadata": {},
   "outputs": [
    {
     "name": "stdout",
     "output_type": "stream",
     "text": [
      "Numero totale di paesi nel dataframe sexual_violence: 140\n"
     ]
    }
   ],
   "source": [
    "print(f\"Numero totale di paesi nel dataframe sexual_violence: {sexual_violence['Country'].unique().size}\")"
   ]
  },
  {
   "cell_type": "code",
   "execution_count": 270,
   "metadata": {},
   "outputs": [
    {
     "name": "stdout",
     "output_type": "stream",
     "text": [
      "Numero totale di paesi nel dataframe kidnapping: 147\n"
     ]
    }
   ],
   "source": [
    "print(f\"Numero totale di paesi nel dataframe kidnapping: {kidnapping['Country'].unique().size}\")"
   ]
  }
 ],
 "metadata": {
  "colab": {
   "provenance": []
  },
  "kernelspec": {
   "display_name": "Python 3 (ipykernel)",
   "language": "python",
   "name": "python3"
  },
  "language_info": {
   "codemirror_mode": {
    "name": "ipython",
    "version": 3
   },
   "file_extension": ".py",
   "mimetype": "text/x-python",
   "name": "python",
   "nbconvert_exporter": "python",
   "pygments_lexer": "ipython3",
   "version": "3.9.13"
  }
 },
 "nbformat": 4,
 "nbformat_minor": 1
}
